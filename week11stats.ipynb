{
 "cells": [
  {
   "cell_type": "markdown",
   "id": "b2a017d5-961f-4a9a-802a-e4ef1a4f3ded",
   "metadata": {},
   "source": [
    "# Q1. What is the Probability density function?\n",
    "# ANS The Probability Density Function (PDF) is a fundamental concept in probability theory and statistics. It's used to describe the likelihood of a continuous random variable taking on a particular value within a certain range. In simpler terms, the PDF provides a way to understand the distribution of values that a continuous random variable can take."
   ]
  },
  {
   "cell_type": "markdown",
   "id": "d055f6b5-193f-4534-9b86-e71dd79bf817",
   "metadata": {},
   "source": [
    "# Q2. What are the types of Probability distribution?\n",
    "# 1. Discrete Probability Distributions:The random variable can only take on distinct, separate values.The probability is assigned to each of these individual values. Common examples of discrete probability distributions include:\n",
    "\n",
    "- Bernoulli Distribution\n",
    "- Binomial Distribution\n",
    "- Poisson Distribution \n",
    "\n",
    "# 2. Continuous Probability Distributions:In continuous distributions, the random variable can take on any value within a certain range. Probability is defined over intervals rather than individual points. Common examples of continuous probability distributions include:\n",
    "\n",
    "- Normal/Gaussian Distribution\n",
    "- Uniform Distribution"
   ]
  },
  {
   "cell_type": "code",
   "execution_count": 1,
   "id": "4b45b8c0-fb1b-4bd1-9c65-6d7b00bf4a5d",
   "metadata": {},
   "outputs": [
    {
     "name": "stdout",
     "output_type": "stream",
     "text": [
      "PDF at x = 0.5: 0.3520653267642995\n"
     ]
    }
   ],
   "source": [
    "# Q3. Write a Python function to calculate the probability density function of a normal distribution with\n",
    "# given mean and standard deviation at a given point.\n",
    "import math\n",
    "\n",
    "def normal_pdf(x, mean, std_dev):\n",
    "    coefficient = 1 / (std_dev * math.sqrt(2 * math.pi))\n",
    "    exponent = -0.5 * ((x - mean) / std_dev) ** 2\n",
    "    pdf_value = coefficient * math.exp(exponent)\n",
    "    return pdf_value\n",
    "mean = 0\n",
    "std_dev = 1\n",
    "point = 0.5\n",
    "pdf_at_point = normal_pdf(point, mean, std_dev)\n",
    "print(f\"PDF at x = {point}: {pdf_at_point}\")\n"
   ]
  },
  {
   "cell_type": "markdown",
   "id": "864c1b6e-aa14-476f-bd35-3442ea116b6e",
   "metadata": {},
   "source": [
    "# Q4. What are the properties of Binomial distribution? Give two examples of events where binomial distribution can be applied.\n",
    "# ANS The binomial distribution is a discrete probability distribution that describes the number of successes in a fixed number of independent Bernoulli trials (where each trial can result in success or failure).\n",
    "# The binomial distribution has several key properties:\n",
    "- Fixed Number of Trials: The distribution models a fixed number, denoted as \"n,\" of independent trials.\n",
    "\n",
    "- Two Possible Outcomes: Each trial results in one of two possible outcomes, often referred to as \"success\" and \"failure.\"\n",
    "\n",
    "- Constant Probability: The probability of success (denoted as \"p\") remains constant across all trials, and the probability of failure is \n",
    "\n",
    "- Independent Trials: Each trial is assumed to be independent of the others, meaning the outcome of one trial doesn't affect the outcome of the others.\n",
    "\n",
    "# Two examples of events where the binomial distribution can be applied are:\n",
    "\n",
    "# Coin Flips: Consider flipping a biased coin with a known probability of getting heads (success). If you flip the coin 10 times and want to find the probability of getting exactly 7 heads, you can model this using a binomial distribution.\n",
    "\n",
    "# Quality Control: A manufacturing process produces items, and each item has a certain probability of being defective. If you randomly select 20 items from a batch and want to find the probability that exactly 3 of them are defective, you can use the binomial distribution."
   ]
  },
  {
   "cell_type": "code",
   "execution_count": 2,
   "id": "511bc3c6-9163-488d-8ef7-10a27b6edc37",
   "metadata": {},
   "outputs": [
    {
     "data": {
      "image/png": "[encoded data removed]",
      "text/plain": [
       "<Figure size 640x480 with 1 Axes>"
      ]
     },
     "metadata": {},
     "output_type": "display_data"
    }
   ],
   "source": [
    "# Q5. Generate a random sample of size 1000 from a binomial distribution with probability of success 0.4\n",
    "# and plot a histogram of the results using matplotlib.\n",
    "import numpy as np\n",
    "import matplotlib.pyplot as plt\n",
    "\n",
    "sample_size = 1000\n",
    "probability_of_success = 0.4\n",
    "number_of_trials = 10  \n",
    "\n",
    "sample = np.random.binomial(number_of_trials, probability_of_success, sample_size)\n",
    "\n",
    "plt.hist(sample, bins=np.arange(-0.5, number_of_trials + 1.5, 1), align='mid', rwidth=0.8, density=True)\n",
    "plt.xlabel('Number of Successes')\n",
    "plt.ylabel('Probability Density')\n",
    "plt.title('Histogram of Binomial Distribution')\n",
    "plt.xticks(np.arange(0, number_of_trials + 1))\n",
    "plt.show()\n"
   ]
  },
  {
   "cell_type": "code",
   "execution_count": 3,
   "id": "f56b15e1-ea87-4ec3-a295-b7b839db9c00",
   "metadata": {},
   "outputs": [
    {
     "name": "stdout",
     "output_type": "stream",
     "text": [
      "CDF at x = 2: 0.42319008112684353\n"
     ]
    }
   ],
   "source": [
    "# Q6. Write a Python function to calculate the cumulative distribution function of a Poisson distribution \n",
    "# with given mean at a given point.\n",
    "import math\n",
    "\n",
    "def poisson_cdf(x, mean):\n",
    "    cdf_value = 0\n",
    "    for k in range(x + 1):\n",
    "        cdf_value += math.exp(-mean) * (mean ** k) / math.factorial(k)\n",
    "    return cdf_value\n",
    "mean = 3\n",
    "point = 2\n",
    "cdf_at_point = poisson_cdf(point, mean)\n",
    "print(f\"CDF at x = {point}: {cdf_at_point}\")\n"
   ]
  },
  {
   "cell_type": "markdown",
   "id": "9db32b75-e801-40f8-927b-9b02c308fe83",
   "metadata": {},
   "source": [
    "# Q7. How Binomial distribution different from Poisson distribution?\n",
    "# ANS Nature of Events:\n",
    "\n",
    "# Binomial Distribution: The binomial distribution is used to model a fixed number of independent trials, where each trial can result in success or failure. It's appropriate when events have only two possible outcomes and are repeated a known number of times.\n",
    "# Poisson Distribution: The Poisson distribution is used to model the number of events occurring in a fixed interval of time or space, where the events are rare and randomly distributed. It's used when the number of events is variable and the events occur independently.\n",
    "\n",
    "# Number of Trials:\n",
    "# Binomial Distribution: It involves a fixed number of trials (denoted as \"n\") in which success or failure is determined.\n",
    "# Poisson Distribution: There is no fixed number of trials; the focus is on the number of events in a given interval.\n",
    "\n",
    "# Probability of Success:\n",
    "# Binomial Distribution: Each trial has the same probability of success (\"p\"), and the probability of failure is (1−p).\n",
    "# Poisson Distribution: There's no direct concept of success or failure probability; the parameter is the average rate of events occurring per interval (\"λ\")"
   ]
  },
  {
   "cell_type": "code",
   "execution_count": 4,
   "id": "b84a19a7-1566-4e25-9d2f-95e05ab6ee23",
   "metadata": {},
   "outputs": [
    {
     "data": {
      "text/plain": [
       "4.993"
      ]
     },
     "execution_count": 4,
     "metadata": {},
     "output_type": "execute_result"
    }
   ],
   "source": [
    "# Q8. Generate a random sample of size 1000 from a Poisson distribution with mean 5 and calculate the\n",
    "# sample mean and variance.\n",
    "import numpy as np\n",
    "sample_size=1000\n",
    "mean=5\n",
    "sample=np.random.poisson(mean,sample_size)\n",
    "sample_mean=np.mean(sample)\n",
    "sample_variance=np.var(sample)\n",
    "sample_mean"
   ]
  },
  {
   "cell_type": "code",
   "execution_count": 5,
   "id": "1b3688b0-5320-448d-8eba-2ace579371ad",
   "metadata": {},
   "outputs": [
    {
     "data": {
      "text/plain": [
       "4.888950999999999"
      ]
     },
     "execution_count": 5,
     "metadata": {},
     "output_type": "execute_result"
    }
   ],
   "source": [
    "sample_variance"
   ]
  },
  {
   "cell_type": "markdown",
   "id": "b99125e8-b044-465f-98f0-9b087f59ee12",
   "metadata": {},
   "source": [
    "# Q9. How mean and variance are related in Binomial distribution and Poisson distribution?\n",
    "# ANS Binomial Distribution: For a Binomial distribution with parameters n (number of trials) and p (probability of success), the mean and variance are related as follows:\n",
    "\n",
    "- Mean=np\n",
    "- Variance =np(1−p)\n",
    "# In the Binomial distribution, the variance depends on both the number of trials (n) and the probability of success (p). When p is close to 0 or 1, the variance becomes smaller, reflecting that outcomes are more concentrated around the mean. When p is around 0.5, the variance reaches its maximum.\n",
    "\n",
    "# Poisson Distribution:For a Poisson distribution with parameter λ (average rate of events), the mean and variance are related as follows:\n",
    "\n",
    "- Mean:μ=λ\n",
    "- Variance:  =λ\n",
    "# In the Poisson distribution, the variance is equal to the mean. This relationship suggests that in a Poisson distribution, the variability of the data is solely determined by the mean rate of events. If the mean rate λ is small, the distribution will be relatively dispersed, and if λ is larger, the distribution will be less dispersed"
   ]
  },
  {
   "cell_type": "markdown",
   "id": "b23ca6ca-9d50-4e0d-948b-b47d72a42407",
   "metadata": {},
   "source": [
    "# Q10. In normal distribution with respect to mean position, where does the least frequent data appear?"
   ]
  }
 ],
 "metadata": {
  "kernelspec": {
   "display_name": "Python 3 (ipykernel)",
   "language": "python",
   "name": "python3"
  },
  "language_info": {
   "codemirror_mode": {
    "name": "ipython",
    "version": 3
   },
   "file_extension": ".py",
   "mimetype": "text/x-python",
   "name": "python",
   "nbconvert_exporter": "python",
   "pygments_lexer": "ipython3",
   "version": "3.10.8"
  }
 },
 "nbformat": 4,
 "nbformat_minor": 5
}
