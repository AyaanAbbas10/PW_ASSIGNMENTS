{
 "cells": [
  {
   "cell_type": "code",
   "execution_count": 1,
   "id": "3289d03d-87be-4cdc-9e7e-4264c86eb513",
   "metadata": {},
   "outputs": [
    {
     "name": "stdout",
     "output_type": "stream",
     "text": [
      "ayaan\n",
      "20\n"
     ]
    }
   ],
   "source": [
    "#Q1. Explain Class and Object with respect to Object-Oriented Programming. Give a suitable example.\n",
    "#a class is a blueprint for creating objects and \n",
    "#it defines the properties and methods that an object of that class will have\n",
    "#object is an instance of a class which contains its own data and methods\n",
    "\n",
    "#creating a class\n",
    "class details:\n",
    "    name=\"ayaan\"\n",
    "    age=20\n",
    "#creating an object\n",
    "obj=details()\n",
    "print(obj.name)\n",
    "print(obj.age)"
   ]
  },
  {
   "cell_type": "code",
   "execution_count": 3,
   "id": "5ff5ddf5-6518-40f0-aa56-47b75c21a035",
   "metadata": {},
   "outputs": [],
   "source": [
    "#Q2. Name the four pillars of OOPs.\n",
    "#the four pillar of oops are\n",
    "#Encapsulation\n",
    "#Polymorphism\n",
    "#Inheritance\n",
    "#Abstract"
   ]
  },
  {
   "cell_type": "code",
   "execution_count": 4,
   "id": "69f59e1d-efec-42d8-a670-95becb87c4fe",
   "metadata": {},
   "outputs": [
    {
     "name": "stdout",
     "output_type": "stream",
     "text": [
      "fish belongs to pisces\n"
     ]
    }
   ],
   "source": [
    "#Q3. Explain why the __init__() function is used. Give a suitable example.\n",
    "#the main purpose of a constructor is to initialize or assign values to the data \n",
    "#members of that class\n",
    "class details:\n",
    "    def __init__(self,animal,group):\n",
    "        self.animal=animal\n",
    "        self.group=group\n",
    "         \n",
    "obj=details(\"fish\",\"pisces\")\n",
    "print(obj.animal,\"belongs to\",obj.group)"
   ]
  },
  {
   "cell_type": "code",
   "execution_count": null,
   "id": "9a001b11-3746-4c46-94dd-c7c20b773605",
   "metadata": {},
   "outputs": [],
   "source": [
    "#Q4. Why self is used in OOPs?\n",
    "#it is a reference to current instance of class and \n",
    "#is used to access variavle that belongs to the class"
   ]
  },
  {
   "cell_type": "code",
   "execution_count": 5,
   "id": "6ebc1206-4598-469d-b31e-21f5a8d697a8",
   "metadata": {},
   "outputs": [],
   "source": [
    "#Q5. What is inheritance? Give an example for each type of inheritance.\n",
    "#it allows new classes to be created that inherit the property of an existing class\n",
    "\n",
    "#single inheritance\n",
    "class parentclass:\n",
    "    pass\n",
    "class childclass(parentclass):\n",
    "    pass\n",
    "#multilpe inheritance\n",
    "class parentclass1:\n",
    "    pass\n",
    "class parentclass2:\n",
    "    pass\n",
    "class childclass(parentclass1,parentclass2):\n",
    "    pass\n",
    "\n",
    "#multilevel inheritance\n",
    "class baseclass:\n",
    "    pass\n",
    "class derivedclass1(baseclass):\n",
    "    pass\n",
    "class derivedclass2(derivedclass1):\n",
    "    pass\n",
    "#hybrid inheritance\n",
    "class baseclass:\n",
    "    pass\n",
    "class derivedclass1(baseclass):\n",
    "    pass\n",
    "class derivedclass2(baseclass):\n",
    "    pass\n",
    "class derivedclass3(derivedclass1,derivedclass2):\n",
    "    pass\n",
    "#hierarchical inheritance\n",
    "class Parent:\n",
    "    pass\n",
    "class Child1(Parent):\n",
    "    def func2(self):\n",
    "        print(\"This function is in child 1.\")\n",
    "class Child2(Parent):\n",
    "    def func3(self):\n",
    "        print(\"This function is in child 2.\")"
   ]
  },
  {
   "cell_type": "code",
   "execution_count": null,
   "id": "f1f395ae-1fc8-445c-98b4-9aeffe9ef279",
   "metadata": {},
   "outputs": [],
   "source": []
  }
 ],
 "metadata": {
  "kernelspec": {
   "display_name": "Python 3 (ipykernel)",
   "language": "python",
   "name": "python3"
  },
  "language_info": {
   "codemirror_mode": {
    "name": "ipython",
    "version": 3
   },
   "file_extension": ".py",
   "mimetype": "text/x-python",
   "name": "python",
   "nbconvert_exporter": "python",
   "pygments_lexer": "ipython3",
   "version": "3.10.8"
  }
 },
 "nbformat": 4,
 "nbformat_minor": 5
}
