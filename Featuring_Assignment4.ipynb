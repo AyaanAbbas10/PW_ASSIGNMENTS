{
 "cells": [
  {
   "cell_type": "markdown",
   "id": "498bbf9e-d69a-41b1-befe-e9278d01ce87",
   "metadata": {},
   "source": [
    "# Q1. What is the difference between Ordinal Encoding and Label Encoding? Provide an example of when you might choose one over the other.\n",
    "# Ordinal Encoding and Label Encoding are both techniques used in data preprocessing to convert categorical data into a numerical format. However, they are applied differently and are suitable for different types of categorical variables. \n",
    "# Here's the difference between the two, along with examples of when to choose one over the other:\n",
    "\n",
    "# Ordinal Encoding: Ordinal encoding is used when the categorical variable has an inherent order or ranking among its categories. In other words, the categories have a meaningful, ordinal relationship.\n",
    "# Encoding Method: Ordinal encoding assigns numerical values to categories based on their order or rank. The categories are mapped to integers in ascending or descending order of their importance or rank.\n",
    "- Example: Suppose you have a variable representing education levels with categories \"High School,\" \"Bachelor's Degree,\" \"Master's Degree,\" and \"Ph.D.\" You can assign numerical labels like 1, 2, 3, and 4, respectively, based on the increasing order of education.\n",
    "\n",
    "# Label Encoding: Label encoding is used when the categorical variable has no inherent order or ranking among its categories. Each category is treated as distinct and holds no ordinal significance.\n",
    "# Encoding Method: Label encoding assigns a unique integer label to each category without any consideration of order. Each category is assigned a different label.\n",
    "- Example: In a dataset containing car colors with categories \"Red,\" \"Blue,\" \"Green,\" and \"Yellow,\" you can assign labels like 1, 2, 3, and 4, respectively, without implying any order or ranking.\n",
    "\n",
    "# When to Choose One Over the Other:Choose Ordinal Encoding when the categorical variable exhibits a clear order or hierarchy among its categories, and preserving that order is essential for your analysis or model.\n",
    "- Choose Label Encoding when the categories have no inherent order, and you want to treat them as distinct and unrelated\n"
   ]
  },
  {
   "cell_type": "markdown",
   "id": "54fc86bf-468f-4cf8-8ea9-e69287b5af9e",
   "metadata": {},
   "source": [
    "# Q2. Explain how Target Guided Ordinal Encoding works and provide an example of when you might use it in a machine learning project.\n",
    "# ANSTarget Guided Ordinal Encoding is a technique used in data preprocessing for encoding categorical variables when there is a meaningful ordinal relationship between the categories, and the target variable in a classification problem influences the encoding.\n",
    "\n",
    "# Target Guided Ordinal Encoding working:\n",
    "- Calculate the Mean of the Target Variable: For each category in the categorical variable, calculate the mean of the target variable (usually binary: 0 or 1) for the data points belonging to that category.\n",
    "- Order Categories by the Mean: Order the categories based on the calculated means in ascending or descending order. The order reflects how strongly each category is associated with the target variable. Categories with higher means are placed at the top, while categories with lower means are at the bottom.\n",
    "- Assign Ordinal Labels: Assign ordinal labels to the categories based on their order. Categories with higher means receive lower labels, and those with lower means receive higher labels.\n",
    "- Encode the Categorical Variable: Replace the original categorical variable with the ordinal labels obtained in the previous step.\n",
    "\n",
    "# Example of Target Guided Ordinal Encoding in a machine learning project: You are working on a credit risk prediction project for a bank. One of the features in your dataset is \"Credit Score Ranges,\" which represents different ranges of credit scores (e.g., \"Poor,\" \"Fair,\" \"Good,\" \"Excellent\"). You have labeled data where the target variable is whether a customer defaulted on a loan (0 for non-default and 1 for default).\n",
    "\n",
    "- Step 1: Calculate the mean of the target variable (default or non-default) for each \"Credit Score Range\" category.\n",
    "- Step 2: Order the \"Credit Score Range\" categories based on their means. You find that \"Excellent\" has the lowest default rate, followed by \"Good,\" \"Fair,\" and \"Poor\" with the highest default rate.\n",
    "- Step 3: Assign ordinal labels based on the order: \"Excellent\" is assigned label 1, \"Good\" is assigned label 2, \"Fair\" is assigned label 3, and \"Poor\" is assigned label 4.\n",
    "- Step 4: Replace the original \"Credit Score Range\" column with the ordinal labels.\n",
    "\n",
    "# Now, the \"Credit Score Ranges\" feature is encoded in such a way that it reflects the likelihood of defaulting on a loan. The machine learning model can use this encoded feature to capture the ordinal relationship between credit scores and credit risk, which can potentially improve predictive accuracy."
   ]
  },
  {
   "cell_type": "markdown",
   "id": "2001daf8-9a34-4104-ac1e-273f6a476283",
   "metadata": {},
   "source": [
    "# Q3. Define covariance and explain why it is important in statistical analysis. How is covariance calculated?\n",
    "# ANS Covariance is a statistical measure that quantifies the degree to which two random variables change together. In other words, it measures the extent to which one variable's values move in relation to the values of another variable. Covariance is an essential concept in statistical analysis and plays a significant role in various areas of statistics, data analysis, and machine learning. Here's a detailed explanation of covariance and its importance:\n",
    "\n",
    "# Importance of Covariance in Statistical Analysis:\n",
    "- Relationship Assessment: Covariance allows you to assess whether two variables are positively related, negatively related, or unrelated. A positive covariance indicates that when one variable increases, the other tends to increase as well, while a negative covariance suggests that when one variable increases, the other tends to decrease.\n",
    "- Direction and Strength: Covariance provides information about the direction and strength of the relationship between two variables. A higher absolute value of covariance indicates a stronger relationship.\n",
    "- Data Exploration: In exploratory data analysis, covariance can help identify patterns and associations between variables, aiding in the understanding of data distributions and potential relationships.\n",
    "\n",
    "\n",
    "# The covariance between two random variables, X and Y, is calculated using the following formula:\n",
    "\n",
    "#           n\n",
    "# Cov(X,Y) = ∑   (Xi−X)(Yi−Y)/n\n",
    "#          i=1\n"
   ]
  },
  {
   "cell_type": "code",
   "execution_count": 1,
   "id": "85188af7-f3b6-4d29-bc1a-6d970e4826c4",
   "metadata": {},
   "outputs": [
    {
     "name": "stdout",
     "output_type": "stream",
     "text": [
      "   Color  Size  Material\n",
      "0      2     1         2\n",
      "1      1     2         0\n",
      "2      0     0         1\n",
      "3      2     1         2\n",
      "4      1     2         1\n",
      "Label Encoders:\n",
      "Color: {'blue': 0, 'green': 1, 'red': 2}\n",
      "Size: {'large': 0, 'medium': 1, 'small': 2}\n",
      "Material: {'metal': 0, 'plastic': 1, 'wood': 2}\n"
     ]
    }
   ],
   "source": [
    "# Q4. For a dataset with the following categorical variables: Color (red, green, blue), Size (small, medium,\n",
    "# large), and Material (wood, metal, plastic), perform label encoding using Python's scikit-learn library.\n",
    "# Show your code and explain the output.\n",
    "\n",
    "from sklearn.preprocessing import LabelEncoder\n",
    "import pandas as pd\n",
    "data = {\n",
    "    'Color': ['red', 'green', 'blue', 'red', 'green'],\n",
    "    'Size': ['medium', 'small', 'large', 'medium', 'small'],\n",
    "    'Material': ['wood', 'metal', 'plastic', 'wood', 'plastic']\n",
    "}\n",
    "df = pd.DataFrame(data)\n",
    "label_encoders = {}\n",
    "\n",
    "for column in df.columns:\n",
    "    le = LabelEncoder()\n",
    "    df[column] = le.fit_transform(df[column])\n",
    "    label_encoders[column] = le\n",
    "print(df)\n",
    "\n",
    "print(\"Label Encoders:\")\n",
    "for column, le in label_encoders.items():\n",
    "    print(f\"{column}: {dict(zip(le.classes_, le.transform(le.classes_)))}\")"
   ]
  },
  {
   "cell_type": "code",
   "execution_count": 2,
   "id": "fdd0bf30-6c71-4690-b568-7625fc344b70",
   "metadata": {},
   "outputs": [
    {
     "name": "stdout",
     "output_type": "stream",
     "text": [
      "Covariance Matrix:\n",
      "[[2.824e+01 2.824e+04 1.072e+01]\n",
      " [2.824e+04 2.824e+07 1.072e+04]\n",
      " [1.072e+01 1.072e+04 4.160e+00]]\n"
     ]
    }
   ],
   "source": [
    "# Q5. Calculate the covariance matrix for the following variables in a dataset: Age, Income, and Education level. Interpret the results.\n",
    "import numpy as np\n",
    "\n",
    "age = np.array([30, 40, 25, 35, 28])\n",
    "income = np.array([50000, 60000, 45000, 55000, 48000])\n",
    "education_level = np.array([12, 16, 10, 14, 12])\n",
    "cov_matrix = np.cov([age, income, education_level], bias=True)\n",
    "print(\"Covariance Matrix:\")\n",
    "print(cov_matrix)\n"
   ]
  },
  {
   "cell_type": "markdown",
   "id": "fcc0ae5b-96eb-4262-84db-6e2d87514511",
   "metadata": {},
   "source": [
    "# Q6. You are working on a machine learning project with a dataset containing several categorical variables, including \"Gender\" (Male/Female), \"Education Level\" (High School/Bachelor's/Master's/PhD),and \"Employment Status\" (Unemployed/Part-Time/Full-Time). Which encoding method would you use for each variable, and why?\n",
    "# ANS Gender (Binary Categorical Variable - Male/Female):Encoding Method: Label Encoding\n",
    "# Justification: Since \"Gender\" is a binary categorical variable with only two categories (Male and Female), label encoding is appropriate. Assigning 0 to Male and 1 to Female can effectively represent this variable, and it doesn't introduce any artificial ordinal relationship between the categories.\n",
    "\n",
    "# Education Level (Ordinal Categorical Variable - High School/Bachelor's/Master's/PhD):Encoding Method: Ordinal Encoding\n",
    "# Justification: \"Education Level\" has a meaningful ordinal relationship. A higher level of education corresponds to a higher degree of education. Therefore, you should use ordinal encoding to preserve this ordinal information. Assigning numerical labels based on the educational hierarchy (e.g., High School: 1, Bachelor's: 2, Master's: 3, PhD: 4) allows the model to capture this order.\n",
    "\n",
    "# Employment Status (Nominal Categorical Variable - Unemployed/Part-Time/Full-Time):Encoding Method: One-Hot Encoding\n",
    "# Justification: \"Employment Status\" is a nominal categorical variable with categories that do not have a natural order or hierarchy. Using one-hot encoding creates binary columns for each category (Unemployed, Part-Time, Full-Time), and each category is treated as a separate, unrelated feature. This encoding method ensures that there is no implied ordinal relationship between the employment status categories."
   ]
  },
  {
   "cell_type": "code",
   "execution_count": null,
   "id": "3c478f8b-5360-4a95-80c0-786a1068143c",
   "metadata": {},
   "outputs": [],
   "source": [
    "# Q7. You are analyzing a dataset with two continuous variables, \"Temperature\" and \"Humidity\", and two\n",
    "# categorical variables, \"Weather Condition\" (Sunny/Cloudy/Rainy) and \"Wind Direction\" (North/South/\n",
    "# 3East/West). Calculate the covariance between each pair of variables and interpret the results.\n",
    "import numpy as np\n",
    "temperature = np.array([78, 82, 76, 85, 79])  # Continuous variable\n",
    "humidity = np.array([60, 65, 70, 55, 58])     \n",
    "\n",
    "# Calculate the covariance between Temperature and Humidity\n",
    "cov_temperature_humidity = np.cov(temperature, humidity, bias=True)[0, 1]\n",
    "\n",
    "# Print the covariance\n",
    "print(\"Covariance between Temperature and Humidity:\", cov_temperature_humidity)\n"
   ]
  }
 ],
 "metadata": {
  "kernelspec": {
   "display_name": "Python 3 (ipykernel)",
   "language": "python",
   "name": "python3"
  },
  "language_info": {
   "codemirror_mode": {
    "name": "ipython",
    "version": 3
   },
   "file_extension": ".py",
   "mimetype": "text/x-python",
   "name": "python",
   "nbconvert_exporter": "python",
   "pygments_lexer": "ipython3",
   "version": "3.10.8"
  }
 },
 "nbformat": 4,
 "nbformat_minor": 5
}
