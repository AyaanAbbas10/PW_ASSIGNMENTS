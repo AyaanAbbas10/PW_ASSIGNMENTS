{
 "cells": [
  {
   "cell_type": "code",
   "execution_count": null,
   "id": "4dd43a3b-8d47-4181-aa65-6c7cb95758de",
   "metadata": {},
   "outputs": [],
   "source": [
    "# we use comment by putting (#) symbol in front of the sentence\n",
    "#'''\n",
    "#this is used for multi line\n",
    "#comment'''"
   ]
  },
  {
   "cell_type": "code",
   "execution_count": 1,
   "id": "78216ae2-0450-4fe8-b4c9-edae7b65423e",
   "metadata": {},
   "outputs": [],
   "source": [
    "#variables are named location which are used to store data in the memory\n",
    "#in python the compiler already knows the type of the variable u have entered\n",
    "#and to assign a variavle value u have to use assignment operator(=)\n"
   ]
  },
  {
   "cell_type": "code",
   "execution_count": null,
   "id": "52f7f068-4822-4210-8e0d-39eebc402ddf",
   "metadata": {},
   "outputs": [],
   "source": [
    "#to convert one data type into another we use the concept of type casting\n",
    "\n",
    "    "
   ]
  },
  {
   "cell_type": "code",
   "execution_count": null,
   "id": "5bf03e48-a16d-4468-bc1d-7e8d1197850f",
   "metadata": {},
   "outputs": [],
   "source": [
    "# first create a valid file name and then add(.py) at the end of the file name\n",
    "\n",
    "    "
   ]
  },
  {
   "cell_type": "code",
   "execution_count": 2,
   "id": "bc1e6aee-508a-4168-9799-004a334ec528",
   "metadata": {},
   "outputs": [
    {
     "name": "stdout",
     "output_type": "stream",
     "text": [
      "[2, 3]\n"
     ]
    }
   ],
   "source": [
    "l=[1,2,3,4,5]\n",
    "print(l[1:3:1])"
   ]
  },
  {
   "cell_type": "code",
   "execution_count": 3,
   "id": "cf551dd9-6673-4824-8f57-ceb3939ae6fb",
   "metadata": {},
   "outputs": [
    {
     "name": "stdout",
     "output_type": "stream",
     "text": [
      "<class 'complex'>\n"
     ]
    }
   ],
   "source": [
    "# a complex number is a number which has both imaginary and real part in python it is represented as\n",
    "no=1+5j\n",
    "print(type(no))"
   ]
  },
  {
   "cell_type": "code",
   "execution_count": 5,
   "id": "c7ef0f4a-689d-46d9-8da0-38c523f74aa7",
   "metadata": {},
   "outputs": [
    {
     "name": "stdout",
     "output_type": "stream",
     "text": [
      "25\n",
      "<class 'float'>\n"
     ]
    }
   ],
   "source": [
    "#the correct way to declare a variable named age and assign the value 25 to it is\n",
    "age=25\n",
    "print(age)\n",
    "price=9.99\n",
    "#it belongs to float\n",
    "print(type(price))"
   ]
  },
  {
   "cell_type": "code",
   "execution_count": 6,
   "id": "fdda7c46-b39e-4673-bc35-a4ba8082b510",
   "metadata": {},
   "outputs": [
    {
     "name": "stdout",
     "output_type": "stream",
     "text": [
      "Syed Ayaan Abbas\n"
     ]
    }
   ],
   "source": [
    "s=\"Syed Ayaan Abbas\"\n",
    "print(s)"
   ]
  },
  {
   "cell_type": "code",
   "execution_count": 9,
   "id": "761efd7d-a66b-4b98-8e79-69a09f944c76",
   "metadata": {},
   "outputs": [
    {
     "name": "stdout",
     "output_type": "stream",
     "text": [
      "World\n"
     ]
    }
   ],
   "source": [
    "s1=\"Hello,World!\"\n",
    "print(s1[6:11:1])\n"
   ]
  },
  {
   "cell_type": "code",
   "execution_count": null,
   "id": "ea55504c-f114-407e-bd66-89cd5a02739e",
   "metadata": {},
   "outputs": [],
   "source": [
    "is_student=True"
   ]
  }
 ],
 "metadata": {
  "kernelspec": {
   "display_name": "Python 3 (ipykernel)",
   "language": "python",
   "name": "python3"
  },
  "language_info": {
   "codemirror_mode": {
    "name": "ipython",
    "version": 3
   },
   "file_extension": ".py",
   "mimetype": "text/x-python",
   "name": "python",
   "nbconvert_exporter": "python",
   "pygments_lexer": "ipython3",
   "version": "3.10.8"
  }
 },
 "nbformat": 4,
 "nbformat_minor": 5
}
