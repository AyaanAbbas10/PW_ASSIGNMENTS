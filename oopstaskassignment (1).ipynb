{
 "cells": [
  {
   "cell_type": "code",
   "execution_count": 2,
   "id": "a97ce3b0-b9f4-41f6-a99a-0f40f530db38",
   "metadata": {},
   "outputs": [
    {
     "name": "stdout",
     "output_type": "stream",
     "text": [
      "audi\n",
      "190\n",
      "40\n"
     ]
    }
   ],
   "source": [
    "#Q1, Create a vehicle class with an init method having instance variables as name_of_vehicle, max_speed\n",
    "#and average_of_vehicle.\n",
    "class vehicle:\n",
    "    def __init__(self,name_of_vehicle,max_speed,average_of_vehicle):\n",
    "        self.name_of_vehicle=name_of_vehicle\n",
    "        self.max_speed=max_speed\n",
    "        self.average_of_vehicle=average_of_vehicle\n",
    "    \n",
    "car=vehicle(\"audi\",190,40)\n",
    "\n",
    "print(car.name_of_vehicle)\n",
    "print(car.max_speed)\n",
    "print(car.average_of_vehicle)"
   ]
  },
  {
   "cell_type": "code",
   "execution_count": 4,
   "id": "46ae8f2e-bcbf-4b3a-aca3-be483e49ee35",
   "metadata": {},
   "outputs": [
    {
     "ename": "NameError",
     "evalue": "name 'vehicle' is not defined",
     "output_type": "error",
     "traceback": [
      "\u001b[0;31m---------------------------------------------------------------------------\u001b[0m",
      "\u001b[0;31mNameError\u001b[0m                                 Traceback (most recent call last)",
      "Cell \u001b[0;32mIn[4], line 4\u001b[0m\n\u001b[1;32m      1\u001b[0m \u001b[38;5;66;03m#Q2. Create a child class car from the vehicle class created in Que 1, which will inherit the vehicle class.\u001b[39;00m\n\u001b[1;32m      2\u001b[0m \u001b[38;5;66;03m#create a method named seating_capacity which takes capacity as an argument and returns the name of\u001b[39;00m\n\u001b[1;32m      3\u001b[0m \u001b[38;5;66;03m#the vehicle and its seating capacity.\u001b[39;00m\n\u001b[0;32m----> 4\u001b[0m \u001b[38;5;28;01mclass\u001b[39;00m \u001b[38;5;21;01mchildvehicle\u001b[39;00m(\u001b[43mvehicle\u001b[49m):\n\u001b[1;32m      5\u001b[0m     \u001b[38;5;28;01mdef\u001b[39;00m \u001b[38;5;21m__init__\u001b[39m(\u001b[38;5;28mself\u001b[39m,seating_capacity):\n\u001b[1;32m      6\u001b[0m         \u001b[38;5;28mself\u001b[39m\u001b[38;5;241m.\u001b[39mseating_capacity\u001b[38;5;241m=\u001b[39mseating_capacity\n",
      "\u001b[0;31mNameError\u001b[0m: name 'vehicle' is not defined"
     ]
    }
   ],
   "source": [
    "#Q2. Create a child class car from the vehicle class created in Que 1, which will inherit the vehicle class.\n",
    "#create a method named seating_capacity which takes capacity as an argument and returns the name of\n",
    "#the vehicle and its seating capacity.\n",
    "class childvehicle(vehicle):\n",
    "    def __init__(self,seating_capacity):\n",
    "        self.seating_capacity=seating_capacity\n",
    "        return self.name_of_vehicle,self.seating_capacity"
   ]
  },
  {
   "cell_type": "code",
   "execution_count": 6,
   "id": "08223eff-e611-4962-98f2-81a6bceb2d1f",
   "metadata": {},
   "outputs": [
    {
     "name": "stdout",
     "output_type": "stream",
     "text": [
      "aryan\n",
      "hiphop\n"
     ]
    }
   ],
   "source": [
    "#Q3. What is multiple inheritance? Write a python code to demonstrate multiple inheritance.\n",
    "#multiple inheritance allows a class to inherit attributes and methods from multiple parent classes\n",
    "class test:\n",
    "    def __init__(self,name):\n",
    "        self.name=name\n",
    "    def show(self):\n",
    "        print(f\"the name is{self.name}\")\n",
    "class dancer:\n",
    "    def __init__(self,dance):\n",
    "        self.dance=dance\n",
    "    def show(self):\n",
    "        print(f\"the name is {self.name}\")\n",
    "                \n",
    "class dancertest(test,dancer):\n",
    "    def __init__(self,dance,name):\n",
    "        self.dance=dance\n",
    "        self.name=name\n",
    "        \n",
    "\n",
    "hi=dancertest(\"hiphop\",\"aryan\")\n",
    "print(hi.name)\n",
    "print(hi.dance)"
   ]
  },
  {
   "cell_type": "code",
   "execution_count": 5,
   "id": "a0650770-0517-4afa-ac6f-d03bd4fc05e8",
   "metadata": {},
   "outputs": [
    {
     "name": "stdout",
     "output_type": "stream",
     "text": [
      "21\n",
      "21\n"
     ]
    }
   ],
   "source": [
    "#Q4. What are getter and setter in python? Create a class and create a getter and a setter method in this\n",
    "#class.\n",
    "#getters are method that are used to access values of an object properties\n",
    "#to pass any parameter into the getter method we use setter to do such operation\n",
    "# Python program showing a use\n",
    "# of get() and set() method in\n",
    "# normal function\n",
    "\n",
    "class getset:\n",
    "\tdef __init__(self, age = 0):\n",
    "\t\tself._age = age\n",
    "\t\n",
    "\t# getter method\n",
    "\tdef get_age(self):\n",
    "\t\treturn self._age\n",
    "\t\n",
    "\t# setter method\n",
    "\tdef set_age(self, x):\n",
    "\t\tself._age = x\n",
    "\n",
    "raj = getset()\n",
    "\n",
    "# setting the age using setter\n",
    "raj.set_age(21)\n",
    "\n",
    "# retrieving age using getter\n",
    "print(raj.get_age())\n",
    "\n",
    "print(raj._age)\n"
   ]
  },
  {
   "cell_type": "code",
   "execution_count": 6,
   "id": "ecd14a9f-ef48-4020-b7c3-157ca1c8ebd7",
   "metadata": {},
   "outputs": [
    {
     "name": "stdout",
     "output_type": "stream",
     "text": [
      "153.86\n"
     ]
    }
   ],
   "source": [
    "#Q5.What is method overriding in python? Write a python code to demonstrate method overriding.\n",
    "#method overriding allows you to redefine a method in derived class and\n",
    "#the method in derived class is said to override the method in base class\n",
    "class shape:\n",
    "    def __init__(self,x,y):\n",
    "        self.x=x\n",
    "        self.y=y\n",
    "    def area(Self):\n",
    "        return self.x*self.y\n",
    "    \n",
    "class circle(shape):\n",
    "    def __init__(self, radius):\n",
    "        self.radius=radius\n",
    "    def area(self):\n",
    "        return 3.14*self.radius*self.radius\n",
    "    \n",
    "c=circle(7)\n",
    "print(c.area())"
   ]
  }
 ],
 "metadata": {
  "kernelspec": {
   "display_name": "Python 3 (ipykernel)",
   "language": "python",
   "name": "python3"
  },
  "language_info": {
   "codemirror_mode": {
    "name": "ipython",
    "version": 3
   },
   "file_extension": ".py",
   "mimetype": "text/x-python",
   "name": "python",
   "nbconvert_exporter": "python",
   "pygments_lexer": "ipython3",
   "version": "3.10.8"
  }
 },
 "nbformat": 4,
 "nbformat_minor": 5
}
