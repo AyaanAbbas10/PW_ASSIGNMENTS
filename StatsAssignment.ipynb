{
 "cells": [
  {
   "cell_type": "markdown",
   "id": "78b3bed9-01cc-4123-8443-bad671a5eb10",
   "metadata": {},
   "source": [
    "# Q1. What is Statistics?\n",
    "# ANS Statistics refers to the mathematical and scientific discipline that involves collecting, analyzing, interpreting, presenting, and organizing data. Its primary goal is to gain insights, draw conclusions and make informed decisions based on data. Statistics plays a crucial role in various fields such as economics,biology, social sciences,business,medicine\n"
   ]
  },
  {
   "cell_type": "markdown",
   "id": "1abdea1a-b4cf-469f-b8d1-bdb207e023aa",
   "metadata": {},
   "source": [
    "# Q2. Define the different types of statistics and give an example of when each type might be used.\n",
    "# ANS  There are two main branches of statistics:\n",
    "# 1) Descriptive Statistics: Descriptive statistics involve methods for summarizing and presenting data in a     \n",
    "# meaningful way.\n",
    "# example -mean, median,mode, range and standard deviation .\n",
    "\n",
    "# 2) Inferential Statistics: Inferential statistics are used to make predictions or inferences about a population based on a sample of data. \n",
    "# Inferential statistics help us draw conclusions from a limited set of data and generalize those conclusions to a larger population\n",
    "# example-It involves techniques like hypothesis testing, confidence intervals, and regression analysis.\n"
   ]
  },
  {
   "cell_type": "markdown",
   "id": "0ce7df72-6b96-495d-ab84-8aa379fb4396",
   "metadata": {},
   "source": [
    "# Q3. What are the different types of data and how do they differ from each other? Provide an example of each type of data.\n",
    "# ANS 1) Nominal Data: Nominal data represent categories or labels that don't have any inherent order or numerical meaning. They are used for classification purposes.\n",
    "# Example: Colors of cars (Red, Blue, Green) or Types of animals (Cat, Dog, Elephant).\n",
    "\n",
    "# 2)Ordinal Data: Ordinal data also represent categories, but they have a meaningful order or ranking between them. However, the differences between the categories are not precisely measurable.\n",
    "# Example: Educational levels (High School, Bachelor's, Master's, PhD), Likert scale responses (Strongly Disagree, Disagree, Neutral, Agree, Strongly Agree).\n",
    "\n",
    "# 3) Interval Data: Interval data have an ordered scale where the differences between values are meaningful and consistent. However, they lack a true zero point and ratios between values are not meaningful.\n",
    "# Example: Temperatures in Celsius or Fahrenheit. The difference between 10°C and 20°C is the same as the difference between 20°C and 30°C, but you can't say that 30°C is twice as hot as 15°C.\n",
    "\n",
    "# 4) Ratio Data: Ratio data have an ordered scale with meaningful differences between values and a true zero point, allowing for meaningful ratios between values.\n",
    "# Example: Height, weight, age, income. Ratios make sense here – if someone is twice as heavy as another person, it means they really have twice the weight."
   ]
  },
  {
   "cell_type": "markdown",
   "id": "d3f829c6-a9dd-4133-9358-874e3866d357",
   "metadata": {},
   "source": [
    "# Q4. Categorise the following datasets with respect to quantitative and qualitative data types:\n",
    "# (i) Grading in exam: A+, A, B+, B, C+, C, D, E  (ORDINAL)\n",
    "# (ii) Colour of mangoes: yellow, green, orange, red (NOMINAL)\n",
    "# (iii) Height data of a class: [178.9, 179, 179.5, 176, 177.2, 178.3, 175.8,...] (RATIO)\n",
    "# (iv) Number of mangoes exported by a farm: [500, 600, 478, 672, ...] (RATIO)"
   ]
  },
  {
   "cell_type": "markdown",
   "id": "9d1600c0-d1b2-4acd-b0f9-41bd1c833763",
   "metadata": {},
   "source": [
    "# Q5. Explain the concept of levels of measurement and give an example of a variable for each level.\n",
    "# ANS Nominal Level:data are categorized into distinct groups without any ranking. Nominal data can only be classified and counted, arithmetic operations like addition or subtraction are not meaningful.\n",
    "# Example: Gender (Male, Female), Eye Color (Blue, Brown, Green).\n",
    "\n",
    "# Ordinal Level:data have ranking, but the differences between the values are not necessarily uniform . While you can determine which values are greater or lesser, you can't say exactly how much greater or lesser they are.\n",
    "# Example: Educational Levels (High School, Bachelor's, Master's, PhD), Likert Scale Responses (Strongly Disagree, Disagree, Neutral, Agree, Strongly Agree).\n",
    "\n",
    "# Interval Level: data have an ordered scale with meaningful and consistent differences between values. However, there is no true zero point, which means you can't make meaningful statements about ratios.\n",
    "# Example: Temperature in Celsius or Fahrenheit. The difference between 20°C and 30°C is the same as the difference between 30°C and 40°C, but you can't say that 40°C is twice as hot as 20°C.\n",
    "\n",
    "# Ratio Level:The ratio level has an ordered scale with meaningful differences between values and a true zero point. This allows for meaningful ratios and comparisons between values.\n",
    "# Example: Height, Weight, Income, Number of Items. A person who is 180 cm tall is twice as tall as someone who is 90 cm tall."
   ]
  },
  {
   "cell_type": "markdown",
   "id": "5a25782e-a04d-49e4-80f5-48734b0bd43d",
   "metadata": {},
   "source": [
    "# Q6. Why is it important to understand the level of measurement when analyzing data? Provide an example to illustrate your answer.\n",
    "# ANS The level of measurement is crucial when analyzing data because it determines the types of statistical analyses and operations that are appropriate for the data. Different levels of measurement have different properties and limitations, and using the wrong type of analysis can lead to incorrect conclusions and misleading interpretations.\n",
    "# EXAMPLE- Let's say you want to calculate the average ranking of schools and compare them. You can assign numerical values (e.g., 1, 2, 3) to the rankings and calculate the mean. However, using the mean in this case might not make much sense. If School A is ranked 1st and School B is ranked 2nd, it doesn't mean that School A is \"twice as good as\" School B.\n",
    "# The right choice might be to use non-parametric tests like the Mann-Whitney U test to compare rankings, which are more appropriate for ordinal data."
   ]
  },
  {
   "cell_type": "markdown",
   "id": "5f688c10-77ab-4de3-acb2-703ee11a4a36",
   "metadata": {},
   "source": [
    "# Q7. How nominal data type is different from ordinal data type.\n",
    "# ANS Nominal Data:\n",
    "# 1)Nominal data consist of categories or labels with no inherent order or ranking.\n",
    "# 2)The categories are distinct and have no numerical meaning.\n",
    "# Examples: Gender (Male, Female), Eye Color (Blue, Brown, Green), Marital Status (Single, Married, Divorced).\n",
    "\n",
    "# Ordinal Data:\n",
    "# 1) Ordinal data also consist of categories, but they have an inherent order or ranking among them.\n",
    "# 2) The categories can be ranked, but the differences between ranks may not be uniform or quantifiable.\n",
    "# Examples: Educational Levels (High School, Bachelor's, Master's, PhD), Likert Scale Responses (Strongly Disagree, Disagree, Neutral, Agree, Strongly Agree).\n"
   ]
  },
  {
   "cell_type": "markdown",
   "id": "e879efc0-f6a5-469c-a847-32ac90cb9531",
   "metadata": {},
   "source": [
    "# Q8. Which type of plot can be used to display data in terms of range?\n",
    "# ANS boxplot can be used to display data in terms of range"
   ]
  },
  {
   "cell_type": "markdown",
   "id": "4b3192f5-bc48-4737-8a2a-e6ce364a09b3",
   "metadata": {},
   "source": [
    "# Q9. Describe the difference between descriptive and inferential statistics. Give an example of each type of statistics and explain how they are used.\n",
    "# ANS Descriptive Statistics:Descriptive statistics involve methods for summarizing, organizing, and presenting data in a meaningful and easily understandable way. They are used to describe and communicate the basic features of a dataset, such as its central tendency, dispersion, and overall distribution. Descriptive statistics are primarily concerned with providing a concise overview of the data.\n",
    "\n",
    "# Example of Descriptive Statistics:Let's say you have a dataset of exam scores for a class: [85, 78, 92, 67, 88, 76, 95]. Descriptive statistics for this dataset might include:\n",
    "\n",
    "- Mean: Calculating the average score: (85 + 78 + 92 + 67 + 88 + 76 + 95) / 7 = 82.14.\n",
    "- Median: Identifying the middle score, which is 85 in this case.\n",
    "- Standard Deviation: Measuring the dispersion of scores around the mean, indicating how spread out the scores are.\n",
    "\n",
    "# Inferential Statistics:Inferential statistics involve making inferences and predictions about a population based on a sample of data. They go beyond just describing the data and aim to draw conclusions, test hypotheses, and make generalizations about a larger group. Inferential statistics help us make informed decisions by addressing uncertainty and variability in data.\n",
    "\n",
    "# Example of Inferential Statistics:Consider a scenario where you're studying the effectiveness of a new teaching method. You randomly select a group of students, apply the new method, and measure their performance. You then use inferential statistics to determine whether the improvement you observed in the sample is likely to represent a true improvement in the larger population of students.\n",
    "\n",
    "- Hypothesis Testing:You set up a null hypothesis that the new teaching method has no effect and an alternative hypothesis that it does. You then analyze the sample data to determine if there's enough evidence to reject the null hypothesis in favor of the alternative.\n",
    "- Regression Analysis: If you're interested in studying relationships between variables, you might use regression analysis to model how changes in one variable (like study time) affect another (like exam score)."
   ]
  },
  {
   "cell_type": "markdown",
   "id": "330696ac-f7e5-4da4-8212-1ecad71a7473",
   "metadata": {},
   "source": [
    "# Q10. What are some common measures of central tendency and variability used in statistics? Explain how each measure can be used to describe a dataset.\n",
    "# ANS \n",
    "# Measures of Central Tendency:\n",
    "\n",
    "# 1) Mean: The mean, also known as the average, is calculated by summing up all the values in a dataset and then dividing by the total number of values. It represents the balance point of the dataset.\n",
    "# Use: The mean provides a common reference point for the dataset.It can be sensitive to outliers, which might skew the value.\n",
    "\n",
    "Median: The median is the middle value in a dataset when it's arranged in ascending or descending order. If there's an even number of values, the median is the average of the two middle values.\n",
    "\n",
    "Use: The median is resistant to outliers and extreme values, making it a better choice when the data is skewed or contains outliers. It provides a measure of central tendency that's not affected by extreme values.\n",
    "\n",
    "Mode: The mode is the value that appears most frequently in a dataset. A dataset can have no mode (no value appears more than once), one mode, or multiple modes.\n",
    "\n",
    "Use: The mode is particularly useful for categorical or discrete data. It helps identify the most common value, which might be important in certain contexts.\n",
    "\n",
    "Measures of Variability:\n",
    "\n",
    "Range: The range is the difference between the maximum and minimum values in a dataset. It gives an idea of how spread out the data is.\n",
    "\n",
    "Use: The range provides a quick sense of the spread in the dataset. However, it's sensitive to outliers and doesn't give information about the distribution of values between the extremes.\n",
    "\n",
    "Variance: Variance measures the average squared difference between each data point and the mean of the dataset. It quantifies how much the data points deviate from the mean.\n",
    "\n",
    "Use: Variance provides a comprehensive measure of the dispersion in the dataset. However, its units are squared, making it less intuitive to interpret. The square root of the variance is the standard deviation.\n",
    "\n",
    "Standard Deviation: The standard deviation is the square root of the variance. It's a measure of how much the data values deviate from the mean.\n",
    "\n",
    "Use: Standard deviation is widely used to describe the spread or dispersion of data. It's often preferred over variance because its units are the same as the original data, making it easier to interpret."
   ]
  }
 ],
 "metadata": {
  "kernelspec": {
   "display_name": "Python 3 (ipykernel)",
   "language": "python",
   "name": "python3"
  },
  "language_info": {
   "codemirror_mode": {
    "name": "ipython",
    "version": 3
   },
   "file_extension": ".py",
   "mimetype": "text/x-python",
   "name": "python",
   "nbconvert_exporter": "python",
   "pygments_lexer": "ipython3",
   "version": "3.10.8"
  }
 },
 "nbformat": 4,
 "nbformat_minor": 5
}
