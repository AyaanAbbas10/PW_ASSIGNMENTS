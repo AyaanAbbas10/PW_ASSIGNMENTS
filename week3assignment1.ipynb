{
 "cells": [
  {
   "cell_type": "code",
   "execution_count": 1,
   "id": "0321b52c-1978-4ed4-a112-b4da33a3e87c",
   "metadata": {
    "tags": []
   },
   "outputs": [
    {
     "data": {
      "text/plain": [
       "[1, 3, 5, 7, 9, 11, 13, 15, 17, 19, 21, 23, 25]"
      ]
     },
     "execution_count": 1,
     "metadata": {},
     "output_type": "execute_result"
    }
   ],
   "source": [
    "#Q1. Which keyword is used to create a function? Create a function to return a list of odd numbers in the\n",
    "#range of 1 to 25.\n",
    " \n",
    "#def function_name() keyword is used to create a function\n",
    "def is_odd():\n",
    "    l1=[]\n",
    "    for i in range(26):\n",
    "        if (i%2!=0):\n",
    "            l1.append(i)\n",
    "    return l1\n",
    " \n",
    "\n",
    "is_odd()"
   ]
  },
  {
   "cell_type": "code",
   "execution_count": 2,
   "id": "7fabe31a-3800-4db6-af5f-e97bb4f971c3",
   "metadata": {},
   "outputs": [
    {
     "data": {
      "text/plain": [
       "{'a': [1, 2, 3, 4], 'b': 'sus', 'c': 21.44}"
      ]
     },
     "execution_count": 2,
     "metadata": {},
     "output_type": "execute_result"
    }
   ],
   "source": [
    "#Q2. Why *args and **kwargs is used in some functions? Create a function each for *args and **kwargs\n",
    "#to demonstrate their use.\n",
    "#*args-it is used to pass number of arguments to a function\n",
    "#**kwargs- it used to pass a key-value argument to a functiom and ir returns it in a  list.\n",
    "\n",
    "def hehe(*args,a):\n",
    "    return args,a\n",
    "(hehe(12.99,88,a=87))\n",
    "\n",
    "def test1(**kwargs):\n",
    "    return kwargs\n",
    "(test1(a=[1,2,3,4],b=\"sus\",c=21.44))"
   ]
  },
  {
   "cell_type": "code",
   "execution_count": 3,
   "id": "8363729f-9cce-4ba9-b8d5-ff031e11ec56",
   "metadata": {},
   "outputs": [
    {
     "name": "stdout",
     "output_type": "stream",
     "text": [
      "2\n",
      "4\n",
      "6\n",
      "8\n",
      "10\n"
     ]
    }
   ],
   "source": [
    "#Q3. What is an iterator in python? Name the method used to initialise the iterator object and the method\n",
    "#used for iteration. Use these methods to print the first five elements of the given list [2, 4, 6, 8, 10, 12, 14,\n",
    "#16, 18, 20].\n",
    "#an iterator is an object that can traverse through all the values in the obkect\n",
    " #the method used to initialise the iterator object\n",
    "# for iteration is iter() method.\n",
    "l=[2, 4, 6, 8, 10, 12, 14, 16, 18, 20]\n",
    "count=0\n",
    "for i in l:\n",
    "    if count<5:\n",
    "        print(i)\n",
    "        count+=1\n",
    "    \n",
    "    "
   ]
  },
  {
   "cell_type": "code",
   "execution_count": 4,
   "id": "5c887eaa-322b-4632-a825-0228d47f50e5",
   "metadata": {},
   "outputs": [],
   "source": [
    "#Q4. What is a generator function in python? Why yield keyword is used? Give an example of a generator\n",
    "#function.\n",
    "# generator function- it is a function that returns an iterator that \n",
    "#produces a sequence of values when iterated over\n",
    "def fib(n):\n",
    "    a,b=0,1\n",
    "    for i in range(n):\n",
    "        yield a\n",
    "        a,b=b,a+b     \n",
    "for i in fib(10):\n",
    "    (i) "
   ]
  },
  {
   "cell_type": "code",
   "execution_count": 5,
   "id": "03969e43-e49b-4799-88a5-74440ff30d80",
   "metadata": {},
   "outputs": [
    {
     "name": "stdout",
     "output_type": "stream",
     "text": [
      "2\n",
      "3\n",
      "5\n",
      "7\n",
      "11\n",
      "13\n",
      "17\n",
      "19\n",
      "23\n",
      "29\n",
      "31\n",
      "37\n",
      "41\n",
      "43\n",
      "47\n",
      "53\n",
      "59\n",
      "61\n",
      "67\n",
      "71\n"
     ]
    }
   ],
   "source": [
    "#Q5.a generator function for prime numbers less than 1000. Use the next() method to print the first 20 prime numbers.\n",
    "def primes():\n",
    "   \n",
    "    yield 2\n",
    "    primes_list = [2]\n",
    "    for i in range(3, 1000):\n",
    "        is_prime = True\n",
    "        for prime in primes_list:\n",
    "            if i % prime == 0:\n",
    "                is_prime = False\n",
    "                break\n",
    "        if is_prime:\n",
    "            primes_list.append(i)\n",
    "            yield i\n",
    "\n",
    "prime_gen = primes()\n",
    "\n",
    "for i in range(20):\n",
    "    print(next(prime_gen))"
   ]
  },
  {
   "cell_type": "code",
   "execution_count": 11,
   "id": "c9f42c04-c5d8-4257-a2bc-17e7431404d3",
   "metadata": {},
   "outputs": [],
   "source": [
    "#Q6. Write a python program to print the first 10 Fibonacci numbers using a while loop.\n",
    "def fib(n):\n",
    "    a,b=0,1\n",
    "    i=0\n",
    "    while(i <n):\n",
    "        a\n",
    "        a,b=b,a+b\n",
    "        i+=1\n",
    "fib(10)\n",
    "    "
   ]
  },
  {
   "cell_type": "code",
   "execution_count": 10,
   "id": "821d3d90-c9c8-4e97-a883-97e0724a7291",
   "metadata": {},
   "outputs": [
    {
     "data": {
      "text/plain": [
       "['p', 'w', 's', 'k', 'i', 'l', 'l', 's']"
      ]
     },
     "execution_count": 10,
     "metadata": {},
     "output_type": "execute_result"
    }
   ],
   "source": [
    "#Q7. Write a List Comprehension to iterate through the given string: ‘pwskills’.\n",
    "#Expected output: ['p', 'w', 's', 'k', 'i', 'l', 'l', 's']\n",
    "\n",
    "s = 'pwskills'\n",
    "output = [char for char in s]\n",
    "output"
   ]
  },
  {
   "cell_type": "code",
   "execution_count": 12,
   "id": "d0e3cb8b-11b5-43da-be8c-f6c3bb68ec45",
   "metadata": {},
   "outputs": [
    {
     "name": "stdin",
     "output_type": "stream",
     "text": [
      " 545\n"
     ]
    },
    {
     "name": "stdout",
     "output_type": "stream",
     "text": [
      "The number is palindrome!\n"
     ]
    }
   ],
   "source": [
    "#Q8.Write a python program to check whether a given number is Palindrome or not using a while loop.\n",
    "n=int(input())\n",
    "\n",
    "temp=n\n",
    "rev=0\n",
    "while(n>0):\n",
    "    dig=n%10\n",
    "    rev=rev*10+dig\n",
    "    n=n//10\n",
    "if(temp==rev):\n",
    "    print(\"The number is palindrome!\")\n",
    "else:\n",
    "    print(\"Not a palindrome!\")"
   ]
  },
  {
   "cell_type": "code",
   "execution_count": null,
   "id": "2a78a4bf-879f-46dc-9b34-7cd723e1f868",
   "metadata": {},
   "outputs": [],
   "source": [
    "#Q9.Write a code to print odd numbers from 1 to 100 using list comprehension.\n",
    "l=[i"
   ]
  }
 ],
 "metadata": {
  "kernelspec": {
   "display_name": "Python 3 (ipykernel)",
   "language": "python",
   "name": "python3"
  },
  "language_info": {
   "codemirror_mode": {
    "name": "ipython",
    "version": 3
   },
   "file_extension": ".py",
   "mimetype": "text/x-python",
   "name": "python",
   "nbconvert_exporter": "python",
   "pygments_lexer": "ipython3",
   "version": "3.10.8"
  }
 },
 "nbformat": 4,
 "nbformat_minor": 5
}
