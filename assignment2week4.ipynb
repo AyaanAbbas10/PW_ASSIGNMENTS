{
 "cells": [
  {
   "cell_type": "code",
   "execution_count": 1,
   "id": "32ee7495-2694-4d47-9ba2-fb4e9974c756",
   "metadata": {},
   "outputs": [
    {
     "name": "stdout",
     "output_type": "stream",
     "text": [
      "I have 3 sides\n",
      "I have 5 sides\n"
     ]
    }
   ],
   "source": [
    "#Q1. What is Abstraction in OOps? Explain with an example.\n",
    "#Abstraction is the process of hiding the internal details of an application from the outer world. \n",
    "# Python program showing\n",
    "# abstract base class work\n",
    "\n",
    "from abc import ABC, abstractmethod\n",
    "\n",
    "class Polygon(ABC):\n",
    "\t@abstractmethod\n",
    "\tdef noofsides(self):\n",
    "\t\tpass\n",
    "\n",
    "class Triangle(Polygon):\n",
    "\tdef noofsides(self):\n",
    "\t\tprint(\"I have 3 sides\")\n",
    "\n",
    "class Pentagon(Polygon):\n",
    "\tdef noofsides(self):\n",
    "\t\tprint(\"I have 5 sides\")\n",
    "\n",
    "R = Triangle()\n",
    "R.noofsides()\n",
    "\n",
    "R = Pentagon()\n",
    "R.noofsides()\n",
    "\n"
   ]
  },
  {
   "cell_type": "code",
   "execution_count": 3,
   "id": "a28796e5-7c6f-46e5-bb3d-bdc61fccbc06",
   "metadata": {},
   "outputs": [
    {
     "name": "stdout",
     "output_type": "stream",
     "text": [
      "assignment is submitted\n",
      "75% marks\n",
      "1998\n",
      "66\n",
      "0\n"
     ]
    }
   ],
   "source": [
    "#Q2. Differentiate between Abstraction and Encapsulation. Explain with an example.\n",
    "#Abstraction shows only useful data by providing the most necessary details\n",
    "#whereas Encapsulation wraps code and data for necessary information.\n",
    "#ABSTRACTION\n",
    "import abc\n",
    "class school():\n",
    "    @abc.abstractmethod\n",
    "    def student_details(self):\n",
    "        pass\n",
    "    @abc.abstractmethod\n",
    "    def student_assign(self):\n",
    "        pass\n",
    "    @abc.abstractmethod\n",
    "    def marks(self):\n",
    "        pass\n",
    "\n",
    "class student(school):\n",
    "    def student_details(self):\n",
    "     return \"details are given\"\n",
    "    def student_assign(self):\n",
    "        return \"assignment is submitted\"\n",
    "    def marks(self):\n",
    "        return \"75% marks\"\n",
    "    \n",
    "he=student()\n",
    "print(he.student_assign())\n",
    "print(he.marks())\n",
    "#Encapsulation\n",
    "class car:\n",
    "    def __init__(self,year,model,company,speed):\n",
    "        self.__year=year\n",
    "        self.__model=model\n",
    "        self.__company=company\n",
    "        self.__speed=speed\n",
    "    def set__speed(self,speed):\n",
    "        self.__speed= 0 if speed < 0 else speed\n",
    "    def get_speed(self):\n",
    "        return self.__speed\n",
    "\n",
    "c=car(1998,\"seltos\",\"kia\",87)\n",
    "print(c._car__year)\n",
    "\n",
    "c.set__speed(66)\n",
    "print(c.get_speed())\n",
    "c.set__speed(-7576)\n",
    "print(c.get_speed())"
   ]
  },
  {
   "cell_type": "code",
   "execution_count": null,
   "id": "1c403483-2055-4e6d-88e8-7eeafd6ac549",
   "metadata": {},
   "outputs": [],
   "source": [
    "#Q3. What is abc module in python? Why is it used?\n",
    "# We cannot create abstract classes directly in Python, so Python provides a module called abc\n",
    "#it is used to  provide the infrastructure for defining the base of Abstract Base Classes(ABC).\n"
   ]
  },
  {
   "cell_type": "code",
   "execution_count": null,
   "id": "5ad828c2-2eb8-41fe-a9f1-cfd24b35b5f3",
   "metadata": {},
   "outputs": [],
   "source": [
    "#Q4. How can we achieve data abstraction?\n"
   ]
  },
  {
   "cell_type": "code",
   "execution_count": null,
   "id": "218d45e3-6274-4e02-b390-0666ea288a37",
   "metadata": {},
   "outputs": [],
   "source": [
    "#Q5. Can we create an instance of an abstract class? Explain your answer.\n",
    "#yes we can create an instance of an abstract class by using abc abstractmethod"
   ]
  }
 ],
 "metadata": {
  "kernelspec": {
   "display_name": "Python 3 (ipykernel)",
   "language": "python",
   "name": "python3"
  },
  "language_info": {
   "codemirror_mode": {
    "name": "ipython",
    "version": 3
   },
   "file_extension": ".py",
   "mimetype": "text/x-python",
   "name": "python",
   "nbconvert_exporter": "python",
   "pygments_lexer": "ipython3",
   "version": "3.10.8"
  }
 },
 "nbformat": 4,
 "nbformat_minor": 5
}
