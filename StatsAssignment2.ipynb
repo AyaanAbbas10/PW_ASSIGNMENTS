{
 "cells": [
  {
   "cell_type": "markdown",
   "id": "af16083c-0d39-4569-b206-43616b86df2a",
   "metadata": {},
   "source": [
    "# Q1. What are the three measures of central tendency?\n",
    "# ANS The three measures of central tendency are:\n",
    "- Mean: The mean is calculated by summing up all the values in a dataset and then dividing by the total number of values. It represents the average value of the dataset.\n",
    "- Median: The median is the middle value in a dataset when it's arranged in ascending or descending order. If there's an even number of values, the median is the average of the two middle values.\n",
    "- Mode: The mode is the value that appears most frequently in a dataset. "
   ]
  },
  {
   "cell_type": "markdown",
   "id": "44c6b8bd-ee71-4cff-8dc9-755b30bbe83a",
   "metadata": {},
   "source": [
    "# Q2. What is the difference between the mean, median, and mode? How are they used to measure the central tendency of a dataset?\n",
    "# ANS Mean: The mean provides the arithmetic average of the dataset. It's used when the data is approximately symmetric and not heavily skewed by outliers. However, extreme values can greatly affect the mean.\n",
    "# Median: The median is the middle value, which means that half of the data is above it and half is below it. It's used when the data is skewed or has outliers, as it's less influenced by extreme values compared to the mean.\n",
    "# Mode: The mode represents the most frequently occurring value. It's useful when identifying the most common category or value in a dataset, especially for categorical data."
   ]
  },
  {
   "cell_type": "code",
   "execution_count": 9,
   "id": "4f3a5c2d-bf5d-4539-aebd-f76be9420585",
   "metadata": {},
   "outputs": [
    {
     "data": {
      "text/plain": [
       "177.01875"
      ]
     },
     "execution_count": 9,
     "metadata": {},
     "output_type": "execute_result"
    }
   ],
   "source": [
    "# Q3. Measure the three measures of central tendency for the given height data:\n",
    "data=[178,177,176,177,178.2,178,175,179,180,175,178.9,176.2,177,172.5,178,176.5]\n",
    "import numpy as np\n",
    "np.mean(data)\n"
   ]
  },
  {
   "cell_type": "code",
   "execution_count": 10,
   "id": "0c5fed6e-3623-4bdd-9730-c22497aa8a6c",
   "metadata": {},
   "outputs": [
    {
     "data": {
      "text/plain": [
       "177.0"
      ]
     },
     "execution_count": 10,
     "metadata": {},
     "output_type": "execute_result"
    }
   ],
   "source": [
    "np.median(data)"
   ]
  },
  {
   "cell_type": "markdown",
   "id": "7a3fb827-9591-46aa-b4d0-ffc14a57145c",
   "metadata": {},
   "source": [
    "from scipy import stats\n",
    "stats.mode(data)"
   ]
  },
  {
   "cell_type": "code",
   "execution_count": 13,
   "id": "057e0703-45b6-434d-8ff1-e83d705497e7",
   "metadata": {},
   "outputs": [
    {
     "data": {
      "text/plain": [
       "1.7885814036548633"
      ]
     },
     "execution_count": 13,
     "metadata": {},
     "output_type": "execute_result"
    }
   ],
   "source": [
    "#Q4. Find the standard deviation for the given data:\n",
    "data=[178,177,176,177,178.2,178,175,179,180,175,178.9,176.2,177,172.5,178,176.5]\n",
    "np.std(data)"
   ]
  },
  {
   "cell_type": "markdown",
   "id": "a500359e-113c-4411-95c1-b54fc1463c83",
   "metadata": {},
   "source": [
    "# Q5. How are measures of dispersion such as range, variance, and standard deviation used to describe the spread of a dataset? Provide an example.\n",
    "# ANS Range: It's calculated by subtracting the minimum value from the maximum value in a dataset. The range gives an idea of the total spread between the extreme values.\n",
    "# Example:Suppose you have a dataset of daily temperatures in Celsius: [15, 18, 16, 22, 20, 23, 19]. The range would be 23-15 = 8. The range indicates that the temperatures vary by 8 degrees Celsius across the dataset.\n",
    "\n",
    "# Variance:Variance measures the average squared difference between each data point and the mean of the dataset. It quantifies how much the data points deviate from the mean. A higher variance indicates more dispersion.\n",
    "# Example:Consider the same temperature dataset. First, calculate the mean: (15 + 18 + 16 + 22 + 20 + 23 + 19) / 7 = 18.14. Then calculate the squared differences of each value from the mean: (15 - 18.14)^2, (18 - 18.14)^2, and so on. Sum up these squared differences and divide by the total number of values to get the variance.\n",
    "\n",
    "# Standard Deviation:The standard deviation is the square root of the variance. It's a more intuitive measure of dispersion since it's in the same units as the original data. A higher standard deviation indicates greater variability.\n",
    "# Example:Using the variance example, once you've calculated the variance, take the square root to get the standard deviation. This gives a value that represents the average distance between data points and the mean in the original units (degrees Celsius in this case)."
   ]
  },
  {
   "cell_type": "markdown",
   "id": "14168521-4f17-4df6-b2b5-6f06f013bf17",
   "metadata": {},
   "source": [
    "# Q6. What is a Venn diagram?\n",
    "# ANS A Venn diagram is a graphical representation used to illustrate the relationships between different sets or groups. It consists of overlapping circles or other shapes that visually depict the common and unique elements among the sets being compared."
   ]
  },
  {
   "cell_type": "markdown",
   "id": "f95a6fe9-3dd9-465f-9e4d-6ae5d9b46083",
   "metadata": {},
   "source": [
    "# Q7. For the two given sets A = (2,3,4,5,6,7) & B = (0,2,6,8,10). Find:\n",
    "# (i) A n B={2,6}\n",
    "# (ii) A ⋃ B= {0,2,3,4,5,6,7,8,10}"
   ]
  },
  {
   "cell_type": "markdown",
   "id": "dafb891b-767b-4e10-8ccd-f90964291dd4",
   "metadata": {},
   "source": [
    "# Q8. What do you understand about skewness in data?\n",
    "# ANS Skewness in data refers to the asymmetry or lack of symmetry in the distribution of values within a dataset. When a dataset is skewed, it means that the values are not evenly distributed around the central tendency (mean, median, or mode), and the distribution may be pulled more towards one side. "
   ]
  },
  {
   "cell_type": "markdown",
   "id": "0c6cff95-e3b0-4ab3-a497-36fcda33e643",
   "metadata": {},
   "source": [
    "# Q9. If a data is right skewed then what will be the position of median with respect to mean?\n",
    "# ANS In a right-skewed distribution, the tail of the distribution is elongated towards the right side, which means there are some relatively large values that pull the mean to the right. As a result, the mean is influenced by these larger values in the tail, making it shift towards the right."
   ]
  },
  {
   "cell_type": "markdown",
   "id": "21b3e75d-c10f-4ebf-b192-7b3898d689c8",
   "metadata": {},
   "source": [
    "# Q10. Explain the difference between covariance and correlation. How are these measures used in statistical analysis?\n",
    "# ANS Covariance:Covariance measures the degree to which two variables change together.It quantifies the relationship between the fluctuations of two variables. A positive covariance indicates that when one variable increases, the other tends to increase as well, and when one decreases, the other tends to decrease. A negative covariance indicates an inverse relationship: as one variable increases, the other tends to decrease.\n",
    "# USAGE-Covariance is used to understand the direction of relationship between two variables and whether they tend to move together or in opposite directions.\n",
    "\n",
    "# Correlation measures the strength and direction of the linear relationship between two variables. Unlike covariance, correlation is a standardized measure that falls between -1 and 1.\n",
    "# A correlation coefficient of +1 indicates a perfect positive linear relationship, -1 indicates a perfect negative linear relationship, and 0 indicates no linear relationship.\n",
    "# USAGE- Correlation is used to measure the strength and direction of the linear relationship between two variables, and it's standardized, making it easier to interpret and compare across different datasets. Correlation coefficients allow for easier comparison of the strength of relationships."
   ]
  },
  {
   "cell_type": "code",
   "execution_count": 14,
   "id": "19509e3e-680b-4051-801f-a95b3d78af55",
   "metadata": {},
   "outputs": [
    {
     "data": {
      "text/plain": [
       "80.5"
      ]
     },
     "execution_count": 14,
     "metadata": {},
     "output_type": "execute_result"
    }
   ],
   "source": [
    "# Q11. What is the formula for calculating the sample mean? Provide an example calculation for a dataset.\n",
    "# ANS Sample Mean= ∑Data Points\\Number of Data Points\n",
    " \n",
    "Sample_Mean=(85+78+92+67)/4\n",
    "Sample_Mean\n"
   ]
  },
  {
   "cell_type": "markdown",
   "id": "ffb9e5cd-fea0-46aa-bac7-1016ec113fcf",
   "metadata": {},
   "source": [
    "# Q12.For a normal distribution data what is the relationship between its measure of central tendency?\n",
    "# ANS In a normal distribution, which is a symmetric and bell-shaped distribution, the measures of central tendency—mean, median, and mode—are all equal and located at the center of the distribution. This equality holds true regardless of the mean and standard deviation of the distribution."
   ]
  },
  {
   "cell_type": "markdown",
   "id": "bc6b4902-02c6-4ba8-85de-f2227b6944ac",
   "metadata": {},
   "source": [
    "# Q13. How is covariance different from correlation?\n",
    "# ANS Covariance: Covariance measures the direction of the linear relationship between two variables. It can take positive, negative, or zero values, indicating the nature and strength of the relationship.\n",
    "- The magnitude of covariance doesn't have a clear interpretation. A positive covariance indicates that when one variable increases, the other tends to increase, and vice versa. A negative covariance indicates an inverse relationship.\n",
    "# Correlation: Correlation has a clear interpretation. A correlation coefficient of +1 indicates a perfect positive linear relationship, -1 indicates a perfect negative linear relationship, and 0 indicates no linear relationship.\n",
    "- Correlation measures not only the direction but also the strength of the linear relationship between two variables. It is a standardized measure that falls between -1 and 1, making it easier to interpret and compare."
   ]
  },
  {
   "cell_type": "markdown",
   "id": "5527ebfb-c2b9-4c3d-850e-37f9352a714b",
   "metadata": {},
   "source": [
    "# Q14. How do outliers affect measures of central tendency and dispersion? Provide an example.\n",
    "# ANS "
   ]
  }
 ],
 "metadata": {
  "kernelspec": {
   "display_name": "Python 3 (ipykernel)",
   "language": "python",
   "name": "python3"
  },
  "language_info": {
   "codemirror_mode": {
    "name": "ipython",
    "version": 3
   },
   "file_extension": ".py",
   "mimetype": "text/x-python",
   "name": "python",
   "nbconvert_exporter": "python",
   "pygments_lexer": "ipython3",
   "version": "3.10.8"
  }
 },
 "nbformat": 4,
 "nbformat_minor": 5
}
