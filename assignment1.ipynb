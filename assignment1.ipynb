{
 "cells": [
  {
   "cell_type": "code",
   "execution_count": null,
   "id": "23192b8c-94dd-4757-864a-f8522c960185",
   "metadata": {},
   "outputs": [],
   "source": [
    "s=\"ayaan\"\n",
    "l=[1,2,3,4,5]\n",
    "f=5.66\n",
    "t=(9,4,3)"
   ]
  },
  {
   "cell_type": "code",
   "execution_count": null,
   "id": "5fbe2324-a464-4ab4-9f84-00ce20923e8a",
   "metadata": {},
   "outputs": [],
   "source": [
    "var1 = string\n",
    "var2 = string\n",
    "var3 = list\n",
    "var4 = float"
   ]
  },
  {
   "cell_type": "code",
   "execution_count": null,
   "id": "7bf93820-98a0-4d83-9764-720677ceaa05",
   "metadata": {},
   "outputs": [],
   "source": [
    "l1=[1,5,2.4,'abs',4+3j,\"college\",9,8.,10]\n",
    "for i in l1 :\n",
    "    print(i)"
   ]
  },
  {
   "cell_type": "code",
   "execution_count": null,
   "id": "dac0059a-9735-4987-98c8-d742387aaf7a",
   "metadata": {},
   "outputs": [],
   "source": [
    "a=int(input())\n",
    "b=int(input())\n",
    "\n",
    "while(1) :\n",
    "    if(a%b==0):\n",
    "    print(\"it is completely divisible\")\n",
    "    c=(a/b)\n",
    "    print (\"it can be divisible by \") \n",
    "    \n"
   ]
  },
  {
   "cell_type": "code",
   "execution_count": null,
   "id": "85a5be41-cd26-40da-842d-ce9b49bcc5af",
   "metadata": {},
   "outputs": [],
   "source": [
    "l3=[1,2,3,4,5,6,7,8,9,10,11,12,13,14,15,16,17,18,19,20,21,22,23,24,25]\n",
    "for i in l3 :\n",
    "    if(i%3==0):\n",
    "        print(\"element\"+i \"is divisible by 3\")\n",
    "        else :\n",
    "            print(\"element\"+i\"is not divisible\")\n",
    "                "
   ]
  },
  {
   "cell_type": "code",
   "execution_count": null,
   "id": "b4c2a465-de18-4b22-bf53-db912faa263e",
   "metadata": {},
   "outputs": [],
   "source": [
    "#mutable are those in which we can change the data during runtime by knowing the index that we want to change ex-list\n",
    "#immutable are those in whiche we cannot change data during runtime ex-tuple,string\n",
    "l5=[0,3,4,2]\n",
    "l5[1]=9\n",
    "\n",
    "c=\"college\"\n",
    "c[4]='i'\n"
   ]
  },
  {
   "cell_type": "code",
   "execution_count": null,
   "id": "cb48753a-5754-416c-bf5c-8ab0cd231536",
   "metadata": {},
   "outputs": [],
   "source": []
  },
  {
   "cell_type": "code",
   "execution_count": null,
   "id": "49e37979-ebbb-44a8-8e1a-b321a37637ef",
   "metadata": {},
   "outputs": [],
   "source": []
  }
 ],
 "metadata": {
  "kernelspec": {
   "display_name": "Python 3 (ipykernel)",
   "language": "python",
   "name": "python3"
  },
  "language_info": {
   "codemirror_mode": {
    "name": "ipython",
    "version": 3
   },
   "file_extension": ".py",
   "mimetype": "text/x-python",
   "name": "python",
   "nbconvert_exporter": "python",
   "pygments_lexer": "ipython3",
   "version": "3.10.8"
  }
 },
 "nbformat": 4,
 "nbformat_minor": 5
}
