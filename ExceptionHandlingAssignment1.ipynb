{
 "cells": [
  {
   "cell_type": "code",
   "execution_count": 14,
   "id": "828e7bb9-6f6a-458b-81d5-64bffec294d3",
   "metadata": {},
   "outputs": [],
   "source": [
    "#Q1. What is  Exception in python? Write the difference between Exceptions and syntax errors\n",
    "#ANS\n",
    "#An exception is an unexpected event that occurs during program execution\n",
    "#When the proper syntax  is not followed then a syntax error is occured\n",
    "#When in the runtime an error that occurs after passing the syntax test is called exception\n"
   ]
  },
  {
   "cell_type": "code",
   "execution_count": 15,
   "id": "4d4f1558-207c-481c-b50d-6b8d26b787bb",
   "metadata": {},
   "outputs": [
    {
     "ename": "ZeroDivisionError",
     "evalue": "division by zero",
     "output_type": "error",
     "traceback": [
      "\u001b[0;31m---------------------------------------------------------------------------\u001b[0m",
      "\u001b[0;31mZeroDivisionError\u001b[0m                         Traceback (most recent call last)",
      "Cell \u001b[0;32mIn[15], line 6\u001b[0m\n\u001b[1;32m      1\u001b[0m \u001b[38;5;66;03m#Q2. What happens when an exception is not handled? Explain with an example\u001b[39;00m\n\u001b[1;32m      2\u001b[0m \u001b[38;5;66;03m#ANS\u001b[39;00m\n\u001b[1;32m      3\u001b[0m \u001b[38;5;66;03m#If exception is not handled then an error will occur in the program \u001b[39;00m\n\u001b[1;32m      4\u001b[0m \u001b[38;5;66;03m#Example\u001b[39;00m\n\u001b[1;32m      5\u001b[0m \u001b[38;5;66;03m#Without handling exception\u001b[39;00m\n\u001b[0;32m----> 6\u001b[0m a\u001b[38;5;241m=\u001b[39m\u001b[38;5;241;43m10\u001b[39;49m\u001b[38;5;241;43m/\u001b[39;49m\u001b[38;5;241;43m0\u001b[39;49m\n\u001b[1;32m      7\u001b[0m a\n\u001b[1;32m      8\u001b[0m \u001b[38;5;66;03m#Handling exception\u001b[39;00m\n",
      "\u001b[0;31mZeroDivisionError\u001b[0m: division by zero"
     ]
    }
   ],
   "source": [
    "#Q2. What happens when an exception is not handled? Explain with an example\n",
    "#ANS\n",
    "#If exception is not handled then an error will occur in the program \n",
    "#Example\n",
    "#Without handling exception\n",
    "a=10/0\n",
    "a\n",
    "#Handling exception\n",
    "try :\n",
    "    a=10/0\n",
    "except ZeroDivisionError as e:\n",
    "    print(e)\n"
   ]
  },
  {
   "cell_type": "code",
   "execution_count": 16,
   "id": "e6237df5-c871-4c1b-ba15-0a6a9da77822",
   "metadata": {},
   "outputs": [
    {
     "name": "stdout",
     "output_type": "stream",
     "text": [
      "invalid literal for int() with base 10: 'uni'\n"
     ]
    }
   ],
   "source": [
    "#Q3. Which Python statements are used to catch and handle exceptions? Explain with an example\n",
    "#ANS\n",
    "#try and except statements are used to catch and handle exception\n",
    "#Example\n",
    "try:\n",
    "    int(\"uni\")\n",
    "except(ValueError,TypeError)as e:\n",
    "    print(e)\n",
    "    "
   ]
  },
  {
   "cell_type": "code",
   "execution_count": 10,
   "id": "8b8241a2-1bf9-48d3-a2d0-93793f213a8f",
   "metadata": {},
   "outputs": [
    {
     "name": "stdout",
     "output_type": "stream",
     "text": [
      "yuhoo\n",
      "this block will be executed regardless of the situation\n"
     ]
    },
    {
     "ename": "ZeroDivisionError",
     "evalue": "division by zero",
     "output_type": "error",
     "traceback": [
      "\u001b[0;31m---------------------------------------------------------------------------\u001b[0m",
      "\u001b[0;31mZeroDivisionError\u001b[0m                         Traceback (most recent call last)",
      "Cell \u001b[0;32mIn[10], line 15\u001b[0m\n\u001b[1;32m     13\u001b[0m \u001b[38;5;66;03m#Finally\u001b[39;00m\n\u001b[1;32m     14\u001b[0m \u001b[38;5;28;01mtry\u001b[39;00m:\n\u001b[0;32m---> 15\u001b[0m     a\u001b[38;5;241m=\u001b[39m\u001b[38;5;241;43m10\u001b[39;49m\u001b[38;5;241;43m/\u001b[39;49m\u001b[38;5;241;43m0\u001b[39;49m\n\u001b[1;32m     16\u001b[0m \u001b[38;5;28;01mfinally\u001b[39;00m:\n\u001b[1;32m     17\u001b[0m     \u001b[38;5;28mprint\u001b[39m(\u001b[38;5;124m\"\u001b[39m\u001b[38;5;124mthis block will be executed regardless of the situation\u001b[39m\u001b[38;5;124m\"\u001b[39m)\n",
      "\u001b[0;31mZeroDivisionError\u001b[0m: division by zero"
     ]
    }
   ],
   "source": [
    "#Q4.Explain with an example:\n",
    "#(i)try and else\n",
    "#(ii)finally\n",
    "#(iii)raise\n",
    "#ANS\n",
    "#try and else\n",
    "try:\n",
    "    a=10/2    \n",
    "except Exception as e:\n",
    "  print(\"yahahah\",e)\n",
    "else:\n",
    "    print(\"yuhoo\")\n",
    "#Finally\n",
    "try:\n",
    "    a=10/0\n",
    "finally:\n",
    "    print(\"this block will be executed regardless of the situation\")\n",
    "#Raise\n",
    "try:\n",
    "    amount = 1999\n",
    "    if amount < 3500:\n",
    "        raise ValueError(\"you are ineligible to buy this course\")\n",
    "    else:\n",
    "        print(\"You are eligible to buy this course\")\n",
    "except ValueError as e:\n",
    "        print(e)\n",
    "\n",
    "        "
   ]
  },
  {
   "cell_type": "code",
   "execution_count": 17,
   "id": "7041afbe-500f-4c1e-a71d-0531364dfc3a",
   "metadata": {},
   "outputs": [
    {
     "name": "stdin",
     "output_type": "stream",
     "text": [
      "enter your age 100\n"
     ]
    },
    {
     "name": "stdout",
     "output_type": "stream",
     "text": [
      "valid age \n"
     ]
    }
   ],
   "source": [
    "#Q5. What are Custom Exceptions in python? Why do we need Custom Exceptions? Explain with an example\n",
    "#ANS\n",
    "#Custom exception are the exception defined by the user,the user defines condition acc to his need and\n",
    "#generates custom exception\n",
    "#We need custom exception to make our exception handling easier and define exception acc to our need\n",
    "#Example\n",
    "class c_validage(Exception):\n",
    "    def __init__(self, msg) :\n",
    "        self.msg=msg\n",
    "\n",
    "def f_validage(age):\n",
    "    if age<0:\n",
    "        raise c_validage(\"entered age is negative\")\n",
    "    elif age>100:\n",
    "        raise c_validage(\"entered age is very high\")\n",
    "    else :\n",
    "        print(\"valid age \")\n",
    "\n",
    "try:\n",
    "    age=int(input(\"enter your age\"))\n",
    "    f_validage(age)\n",
    "except c_validage as e:\n",
    "    print(e)\n",
    "\n",
    "    \n",
    "    \n",
    "    \n",
    "    \n",
    "    "
   ]
  },
  {
   "cell_type": "code",
   "execution_count": 18,
   "id": "96b2ad44-a9ad-40c9-be15-ad80d3356ace",
   "metadata": {},
   "outputs": [
    {
     "name": "stdin",
     "output_type": "stream",
     "text": [
      "Enter a number:  98\n"
     ]
    },
    {
     "name": "stdout",
     "output_type": "stream",
     "text": [
      "Eligible to Vote\n"
     ]
    }
   ],
   "source": [
    "#Q6. Create custom exception class. Use this class to handle an exception.\n",
    "# define Python user-defined exceptions\n",
    "class InvalidAgeException(Exception):\n",
    "    pass\n",
    "number = 18\n",
    "try:\n",
    "    input_num = int(input(\"Enter a number: \"))\n",
    "    if input_num < number:\n",
    "        raise InvalidAgeException\n",
    "    else:\n",
    "        print(\"Eligible to Vote\")\n",
    "        \n",
    "except InvalidAgeException:\n",
    "    print(\"Exception occurred: Invalid Age\")\n",
    "    "
   ]
  },
  {
   "cell_type": "code",
   "execution_count": null,
   "id": "4e1f3806-e5c4-4757-9e5d-68adc8f03ead",
   "metadata": {},
   "outputs": [],
   "source": []
  }
 ],
 "metadata": {
  "kernelspec": {
   "display_name": "Python 3 (ipykernel)",
   "language": "python",
   "name": "python3"
  },
  "language_info": {
   "codemirror_mode": {
    "name": "ipython",
    "version": 3
   },
   "file_extension": ".py",
   "mimetype": "text/x-python",
   "name": "python",
   "nbconvert_exporter": "python",
   "pygments_lexer": "ipython3",
   "version": "3.10.8"
  }
 },
 "nbformat": 4,
 "nbformat_minor": 5
}
