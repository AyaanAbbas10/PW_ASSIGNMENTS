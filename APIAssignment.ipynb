{
 "cells": [
  {
   "cell_type": "markdown",
   "id": "5ec89309-e910-4d36-88ad-0b8358b4b31a",
   "metadata": {},
   "source": [
    "## Q1. What is an API? Give an example, where an API is used in real life.\n",
    "## ANS.An API helps two programs or applications to communicate with each other by providing them with the necessary tools and functions. It takes the request from the user and sends it to the service provider and then again sends the result generated from the service provider to the desired user. \n",
    "## an example where API is used in real life is UPI payments, API work as an interface between your BANK and UPI payment app"
   ]
  },
  {
   "cell_type": "markdown",
   "id": "14e0e68f-effa-442a-818d-9e00398738ca",
   "metadata": {},
   "source": [
    "## Q2. Give advantages and disadvantages of using API.\n",
    "## ANS ADVANTAGES OF API\n",
    "\n",
    "## 1) APIs are lightweight and blend into a website’s framework easily without slowing down the operations.\n",
    "## 2) Users can get their apps up and running faster with APIs performing communication functions.\n",
    "## DISADVANTAGES OF API\n",
    "## 1) Developing and implementing API is costly at times and requires high maintenance and support from developers.\n",
    "## 2) Using API adds another layer of surface which is then prone to attacks, and hence the security risk problem is common in APIs."
   ]
  },
  {
   "cell_type": "markdown",
   "id": "db95fbf9-735b-433d-8bff-cf188e11aee3",
   "metadata": {},
   "source": [
    "## Q3. What is a Web API? Differentiate between API and Web API.\n",
    "## ANS Web API Is simply an API for the web. It is an API that can be accessed using the HTTP protocol. It can be built using Java, .nET, etc. It is implemented to extend the functionality of a browser, simplify complex functions, and provide easy syntax to complex code\n",
    "## API\n",
    "## 1)APIs are application interfaces, implying that one application can communicate with another application in a standardized manner.\n",
    "## 2)It has a light-weight architecture furthermore, useful for gadgets which have constrained transmission capacity like smart phones.\n",
    "## 3)It provides support for the HTTP/s protocol: URL Request/Response Headers\n",
    "## WEB API\n",
    "## 1)Web services are a type of API, which must be accessed through a network connection."
   ]
  },
  {
   "cell_type": "markdown",
   "id": "35b88507-da11-4bbb-bcc1-e2938de2312e",
   "metadata": {},
   "source": [
    "## Q4. Explain REST and SOAP Architecture. \n",
    "## REST ARCHITECTURE\n",
    "## 1)(Representational State Transfer) is a set of guidelines (architectural style) offering \n",
    "##    flexible implementation\n",
    "## 2) It inherits security from the underlying transport\n",
    "## 3) It permits different data formats such as plain text, HTML, XML, JSON, etc.\n",
    "\n",
    "## SOAP ARCHITECTURE\n",
    "## 1)SOAP (Simple Object Access Protocol) is a protocol with specific requirements like XML messaging\n",
    "## 2)It defines its own security \n",
    "## 3)It permits XML-based data format only"
   ]
  },
  {
   "cell_type": "code",
   "execution_count": null,
   "id": "4a42172f-9552-4793-8554-f8d012b6af92",
   "metadata": {},
   "outputs": [],
   "source": [
    "## Q5. Differentiate between REST and SOAP.\n",
    "# REST \n",
    "## 1)(Representational State Transfer) is a set of guidelines (architectural style) offering \n",
    "##    flexible implementation\n",
    "## 2) It inherits security from the underlying transport\n",
    "## 3) It permits different data formats such as plain text, HTML, XML, JSON, etc.\n",
    "## 4)Lightweight and needs less bandwidth\n",
    "## 5)REST Calls can be cached\n",
    "# SOAP\n",
    "## 1)SOAP (Simple Object Access Protocol) is a protocol with specific requirements like XML messaging\n",
    "## 2)It defines its own security \n",
    "## 3)It permits XML-based data format only\n",
    "## 4)Heavy weight and more bandwidth\n",
    "## 5) SOAP calls cannot be cached\n"
   ]
  }
 ],
 "metadata": {
  "kernelspec": {
   "display_name": "Python 3 (ipykernel)",
   "language": "python",
   "name": "python3"
  },
  "language_info": {
   "codemirror_mode": {
    "name": "ipython",
    "version": 3
   },
   "file_extension": ".py",
   "mimetype": "text/x-python",
   "name": "python",
   "nbconvert_exporter": "python",
   "pygments_lexer": "ipython3",
   "version": "3.10.8"
  }
 },
 "nbformat": 4,
 "nbformat_minor": 5
}
