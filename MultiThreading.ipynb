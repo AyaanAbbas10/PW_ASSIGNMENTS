{
 "cells": [
  {
   "cell_type": "code",
   "execution_count": 7,
   "id": "3ce6ba0b-151b-46d6-b0c8-7a9c2b851cc2",
   "metadata": {},
   "outputs": [],
   "source": [
    "#Q1.What is multithreading in python? Why is it used? Name the module used to handle threads in python\n",
    "#ANS\n",
    "#multiThreading is teechnique that allows multiple thread of execution to run concurrently within a single process\n",
    "#It is used  to implement high-performance of multiple CPUs or CPU-Core\n",
    "#The module used to handle threads in python is import threading"
   ]
  },
  {
   "cell_type": "code",
   "execution_count": 8,
   "id": "0812c21c-334d-460e-b2b4-fba63b13702c",
   "metadata": {},
   "outputs": [],
   "source": [
    "#Q2.Why threading module used? Write the use of the following functions\n",
    "#(i)activeCount\n",
    "#(ii)currentThread\n",
    "#(iii)enumerate\n",
    "#ANS\n",
    "#threading module is used to implement high-performance of multiple CPUs or CPU-Core\n",
    "#activeCount() − it returns the number of thread objects that are active.\n",
    "#currentThread() − it returns the number of thread objects in the caller's thread control.\n",
    "#enumerate() − it returns a list of all thread objects that are currently active."
   ]
  },
  {
   "cell_type": "code",
   "execution_count": 9,
   "id": "c21c315d-fb04-4f8a-8215-0ad33ca91922",
   "metadata": {},
   "outputs": [],
   "source": [
    "#Q3. Explain the following functions\n",
    "#(i) run()\n",
    "#(ii)start()\n",
    "#(iii)join()\n",
    "#(iv)isAlive()\n",
    "#ANS\n",
    "#run()  − The run() method is the entry point for a thread.\n",
    "#start()  − The start() method starts a thread by calling the run method.\n",
    "#join()  − The join() waits for threads to terminate.\n",
    "#isAlive()  − The isAlive() method checks whether a thread is still executing."
   ]
  },
  {
   "cell_type": "code",
   "execution_count": 5,
   "id": "92751ccd-d192-401c-979c-403a8717a4ed",
   "metadata": {},
   "outputs": [
    {
     "name": "stdout",
     "output_type": "stream",
     "text": [
      "square is 0\n",
      "square is 1\n",
      "square is 4\n",
      "square is 9\n",
      "square is 16\n",
      "square is 25\n",
      "square is 36\n",
      "square is 49\n",
      "square is 64\n",
      "square is 81\n",
      "cube is 0\n",
      "cube is 1\n",
      "cube is 8\n",
      "cube is 27\n",
      "cube is 64\n",
      "cube is 125\n",
      "cube is 216\n",
      "cube is 343\n",
      "cube is 512\n",
      "cube is 729\n"
     ]
    }
   ],
   "source": [
    "#Q4.Write a python program to create two threads. Thread one must print the list of squares and thread\n",
    "#two must print the list of cubes\n",
    "import threading\n",
    "\n",
    "def square(n):\n",
    "    l=[print(\"square is\",n**2)]\n",
    "\n",
    "thread1=[threading.Thread(target=square,args=(i,))for i in range(10)]\n",
    "for t in thread1:\n",
    "    t.start()\n",
    "\n",
    "def cube(n):\n",
    "    print(\"cube is\",n**3)\n",
    "\n",
    "thread2=[threading.Thread(target=cube,args=(i,))for i in range(10)]\n",
    "for t in thread2:\n",
    "    t.start()"
   ]
  },
  {
   "cell_type": "code",
   "execution_count": 10,
   "id": "c214f649-53be-46ca-bbb1-a8e108d25ba2",
   "metadata": {},
   "outputs": [],
   "source": [
    "#Q5. State advantages and disadvantages of multithreading\n",
    "#ANS\n",
    "#ADVANTAGES\n",
    "#Threads minimize the context switching time.\n",
    "#Use of threads provides concurrency within a process.\n",
    "#Efficient communication.\n",
    "#It is more economical to create and context switch threads.\n",
    "#Threads allow utilization of multiprocessor architectures to a greater scale and efficiency.\n",
    "#DISADVANTAGES\n",
    "#Complex debugging and testing processes\n",
    "#Overhead switching of context\n",
    "#Increased potential for deadlock occurrence\n",
    "#Increased difficulty level in writing a program\n",
    "#Unpredictable results\n"
   ]
  },
  {
   "cell_type": "code",
   "execution_count": null,
   "id": "bdb303e4-8e4b-4d32-ae59-8f794540c164",
   "metadata": {},
   "outputs": [],
   "source": [
    "#Q6. Explain deadlocks and race conditions.\n",
    "#ANS\n",
    "#When two processes are waiting for each other directly or indirectly, it is called deadlock\n",
    "#Deadlock exists when two threads seek one lock simultaneously. \n",
    "#This situation will stop both threads from processing or executing the functions\n",
    "\n",
    "# A race conditions occurs when two threads use the same variable at a given time.\n",
    "#The first thread reads the variable, and the second thread reads the same value from the variable"
   ]
  }
 ],
 "metadata": {
  "kernelspec": {
   "display_name": "Python 3 (ipykernel)",
   "language": "python",
   "name": "python3"
  },
  "language_info": {
   "codemirror_mode": {
    "name": "ipython",
    "version": 3
   },
   "file_extension": ".py",
   "mimetype": "text/x-python",
   "name": "python",
   "nbconvert_exporter": "python",
   "pygments_lexer": "ipython3",
   "version": "3.10.8"
  }
 },
 "nbformat": 4,
 "nbformat_minor": 5
}
