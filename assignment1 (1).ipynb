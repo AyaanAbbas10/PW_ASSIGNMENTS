{
 "cells": [
  {
   "cell_type": "code",
   "execution_count": null,
   "id": "23192b8c-94dd-4757-864a-f8522c960185",
   "metadata": {},
   "outputs": [],
   "source": [
    "#Q1. Create one variable containing following type of data:\n",
    "#(i) string\n",
    "(#ii) list\n",
    "#(iii) float\n",
    "#(iv) tuple\n",
    "s=\"ayaan\"\n",
    "l=[1,2,3,4,5]\n",
    "f=5.66\n",
    "t=(9,4,3)"
   ]
  },
  {
   "cell_type": "code",
   "execution_count": null,
   "id": "5fbe2324-a464-4ab4-9f84-00ce20923e8a",
   "metadata": {},
   "outputs": [],
   "source": [
    "#Q2. Given are some following variables containing data:\n",
    "#(i) var1 = ‘ ‘\n",
    "#(ii) var2 = ‘[ DS , ML , Python]’\n",
    "#(iii) var3 = [ ‘DS’ , ’ML’ , ‘Python’ ]\n",
    "#(iv) var4 = 1.\n",
    "#What will be the data type of the above given variable.\n",
    "var1 = string\n",
    "var2 = string\n",
    "var3 = list\n",
    "var4 = float"
   ]
  },
  {
   "cell_type": "code",
   "execution_count": null,
   "id": "7bf93820-98a0-4d83-9764-720677ceaa05",
   "metadata": {},
   "outputs": [],
   "source": [
    "#reate a list of length 10 of your choice containing multiple types of data. Using for loop print the\n",
    "#element and its data type.\n",
    "l1=[1,5,2.4,'abs',4+3j,\"college\",9,8.,10,[1,2]]\n",
    "for i in l1 :\n",
    "    print(i)"
   ]
  },
  {
   "cell_type": "code",
   "execution_count": null,
   "id": "dac0059a-9735-4987-98c8-d742387aaf7a",
   "metadata": {},
   "outputs": [],
   "source": [
    "#Using a while loop, verify if the number A is purely divisible by number B and if so then how many\n",
    "#times it can be divisible.\n",
    "a=int(input())\n",
    "b=int(input())\n",
    "n=True\n",
    "while (n==True) :\n",
    "    if(a%b==0):\n",
    "        print(\"it is completely divisible\")\n",
    "        c=(a/b)\n",
    "        n=False\n",
    "        print(\"it is cmpletely divisible upto \" +c \" times\")\n",
    "       \n",
    "    \n"
   ]
  },
  {
   "cell_type": "code",
   "execution_count": null,
   "id": "85a5be41-cd26-40da-842d-ce9b49bcc5af",
   "metadata": {},
   "outputs": [],
   "source": [
    "#Create a list containing 25 int type data. Using for loop and if-else condition print if the element is\n",
    "#divisible by 3 or not.\n",
    "l3=[1,2,3,4,5,6,7,8,9,10,11,12,13,14,15,16,17,18,19,20,21,22,23,24,25]\n",
    "for i in l3 :\n",
    "    if(i%3==0):\n",
    "        print(\"element\"+i \"is divisible by 3\")\n",
    "        else :\n",
    "            print(\"element\"+i\"is not divisible\")\n",
    "                "
   ]
  },
  {
   "cell_type": "code",
   "execution_count": null,
   "id": "b4c2a465-de18-4b22-bf53-db912faa263e",
   "metadata": {},
   "outputs": [],
   "source": [
    "#mutable are those in which we can change the data during runtime by knowing the index that we want to change ex-list\n",
    "#immutable are those in whiche we cannot change data during runtime ex-tuple,string\n",
    "#What do you understand about mutable and immutable data types? Give examples for both showing\n",
    "#this property.\n",
    "#mutable\n",
    "l5=[0,3,4,2]\n",
    "l5[1]=9\n",
    "#immutable\n",
    "c=\"college\"\n",
    "c[4]='i'\n"
   ]
  },
  {
   "cell_type": "code",
   "execution_count": null,
   "id": "8d1d6edb-f012-413c-8cb0-fadc1b856749",
   "metadata": {},
   "outputs": [],
   "source": [
    "#Explain the use of the following operators using an example:\n",
    "#(i) / -it returnsthe quotient \n",
    "#(ii) %-it returns the remainder\n",
    "#(iii) //- it is the floor division operator and it returns the largest integer after division\n",
    "#(iv) **- it is used to put power of a an element\n",
    "\n",
    "a=5\n",
    "b=2\n",
    "print(a/b)\n",
    "print(a%b)\n",
    "print(a//b)\n",
    "print(a**b)"
   ]
  },
  {
   "cell_type": "code",
   "execution_count": null,
   "id": "09591ca9-d3de-4438-8518-8e97557b2e8c",
   "metadata": {},
   "outputs": [],
   "source": []
  },
  {
   "cell_type": "code",
   "execution_count": null,
   "id": "c2089532-362c-4ec6-b5a2-a6db7d69278d",
   "metadata": {},
   "outputs": [],
   "source": []
  }
 ],
 "metadata": {
  "kernelspec": {
   "display_name": "Python 3 (ipykernel)",
   "language": "python",
   "name": "python3"
  },
  "language_info": {
   "codemirror_mode": {
    "name": "ipython",
    "version": 3
   },
   "file_extension": ".py",
   "mimetype": "text/x-python",
   "name": "python",
   "nbconvert_exporter": "python",
   "pygments_lexer": "ipython3",
   "version": "3.10.8"
  }
 },
 "nbformat": 4,
 "nbformat_minor": 5
}
