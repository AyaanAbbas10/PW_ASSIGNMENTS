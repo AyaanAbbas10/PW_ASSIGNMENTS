{
 "cells": [
  {
   "cell_type": "code",
   "execution_count": 12,
   "id": "75be148c-4d6d-4cd2-b1e7-dda3c543e62c",
   "metadata": {},
   "outputs": [
    {
     "name": "stdout",
     "output_type": "stream",
     "text": [
      "0     4\n",
      "1     8\n",
      "2    15\n",
      "3    16\n",
      "4    23\n",
      "5    42\n",
      "dtype: int64\n"
     ]
    }
   ],
   "source": [
    "## Q1. Create a Pandas Series that contains the following data: 4, 8, 15, 16, 23, and 42. Then, print the series.\n",
    "import pandas as pd\n",
    "l = [ 4, 8, 15, 16, 23, 42]\n",
    "series = pd.Series(l)\n",
    "print(series)"
   ]
  },
  {
   "cell_type": "code",
   "execution_count": 11,
   "id": "ba013ebd-f035-4818-8cfb-30685c0fba5d",
   "metadata": {},
   "outputs": [
    {
     "name": "stdout",
     "output_type": "stream",
     "text": [
      "0         4\n",
      "1         8\n",
      "2        15\n",
      "3        16\n",
      "4        23\n",
      "5        42\n",
      "6     ayaan\n",
      "7     abbas\n",
      "8        pw\n",
      "9    skills\n",
      "dtype: object\n"
     ]
    }
   ],
   "source": [
    "# Q2. Create a variable of list type containing 10 elements in it, and apply pandas.Series function on the\n",
    "# variable print it.\n",
    "l1 = [ 4, 8, 15, 16, 23, 42,'ayaan','abbas','pw','skills']\n",
    "series = pd.Series(l1)\n",
    "print(series)"
   ]
  },
  {
   "cell_type": "code",
   "execution_count": 4,
   "id": "442d4542-9cad-45c2-9585-41791d406ce9",
   "metadata": {},
   "outputs": [],
   "source": [
    "##Q3. Create a Pandas DataFrame that contains the following data:\n",
    "df = {'Name' :['Alice','Bob','Claire'],\n",
    "     'Age':[25,30,27],\n",
    "     'Gender':['Female','Male','Female']\n",
    "}"
   ]
  },
  {
   "cell_type": "code",
   "execution_count": 10,
   "id": "6a99dd25-aca4-406d-a159-fcca227ae465",
   "metadata": {},
   "outputs": [
    {
     "data": {
      "text/plain": [
       "Name        [Alice, Bob, Claire]\n",
       "Age                 [25, 30, 27]\n",
       "Gender    [Female, Male, Female]\n",
       "dtype: object"
      ]
     },
     "execution_count": 10,
     "metadata": {},
     "output_type": "execute_result"
    }
   ],
   "source": [
    "d= pd.Series(df)\n",
    "d"
   ]
  },
  {
   "cell_type": "markdown",
   "id": "182e8473-87a9-4c70-a73b-0279ee99dd00",
   "metadata": {},
   "source": [
    "## Q4. What is ‘DataFrame’ in pandas and how is it different from pandas.series? Explain with an example.\n",
    "# ANS Pandas DataFrame is two-dimensional size-mutable, potentially heterogeneous tabular data structure with labeled axes.A Data frame is a two-dimensional data structure, i.e., data is aligned in a tabular fashion in rows and columns.\n",
    "# The Pandas Series data structure is a one-dimensional labelled array. It is the primary building block for a DataFrame, making up its rows and columns.\n",
    "# DataFrame example-df = {'Name' :['Alice','Bob','Claire'],\n",
    "#     'Age':[25,30,27],\n",
    "#    'Gender':['Female','Male','Female']\n",
    "# }"
   ]
  },
  {
   "cell_type": "markdown",
   "id": "0d3aa1e0-e008-46d2-941a-cbf7a1f6da4e",
   "metadata": {},
   "source": [
    "# Q5. What are some common functions you can use to manipulate data in a Pandas DataFrame? Can\n",
    "# you give an example of when you might use one of these functions?\n",
    "# Ans  We can read the dataframe by using head() function also which is having an argument (n) i.e. number of rows to be displayed.\n",
    "# example-df.head(10)\n",
    "# Counting the rows and columns in DataFrame using shape(). It returns the no. of rows and columns enclosed in a tuple.\n",
    "# example-df.shape()\n",
    "# Dropping the missing values in DataFrame, it can be done using the dropna() method, it removes all the NaN values in the dataframe.\n",
    "# example- df.dropna()"
   ]
  },
  {
   "cell_type": "markdown",
   "id": "4917f6b2-cf36-41d0-81c1-1a0411b123d2",
   "metadata": {},
   "source": [
    "# Q6. Which of the following is mutable in nature Series, DataFrame, Panel?\n",
    "# ans DataFrame and Panel are mutable in nature "
   ]
  },
  {
   "cell_type": "code",
   "execution_count": 13,
   "id": "dd7338c2-c687-4049-8267-c045c816d8e4",
   "metadata": {},
   "outputs": [
    {
     "name": "stdout",
     "output_type": "stream",
     "text": [
      "  Author  Article\n",
      "0   Jitu      210\n",
      "1  Ayaan      211\n",
      "2  Arpit      114\n",
      "3  Seema      178\n"
     ]
    }
   ],
   "source": [
    "# Q7. Create a DataFrame using multiple Series. Explain with an example.\n",
    "# Importing Pandas library\n",
    "import pandas as pd\n",
    "\n",
    "author = ['Jitu', 'Ayaan',\n",
    "\t\t'Arpit', 'Seema']\n",
    "article = [210, 211, 114, 178]\n",
    "\n",
    "auth_series = pd.Series(author)\n",
    "article_series = pd.Series(article)\n",
    "\n",
    "df = {'Author': auth_series,\n",
    "\t\t'Article': article_series}\n",
    "\n",
    "result = pd.DataFrame(df)\n",
    "\n",
    "print(result)\n"
   ]
  },
  {
   "cell_type": "code",
   "execution_count": null,
   "id": "d894677a-7e60-4675-b9c8-0b7d90144a4e",
   "metadata": {},
   "outputs": [],
   "source": []
  }
 ],
 "metadata": {
  "kernelspec": {
   "display_name": "Python 3 (ipykernel)",
   "language": "python",
   "name": "python3"
  },
  "language_info": {
   "codemirror_mode": {
    "name": "ipython",
    "version": 3
   },
   "file_extension": ".py",
   "mimetype": "text/x-python",
   "name": "python",
   "nbconvert_exporter": "python",
   "pygments_lexer": "ipython3",
   "version": "3.10.8"
  }
 },
 "nbformat": 4,
 "nbformat_minor": 5
}
