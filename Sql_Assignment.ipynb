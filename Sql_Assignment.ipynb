{
 "cells": [
  {
   "cell_type": "markdown",
   "id": "507255b4-487d-405e-ae90-ef9349c2aff0",
   "metadata": {},
   "source": [
    "### Q1) What is a database Differentiate between SQL and NoSQL databases.\n",
    "#### ANS A database is an organized collection of structured information, or data, typically stored electronically in a computer system\n",
    "#### SQL-1)SQL databases have fixed or static or predefined schema.\n",
    "2)\tSQL databases display data in form of tables so it is known as table-based database.\n",
    "3)\tSQL databases are vertically scalable.\n",
    "#### NOSQL-1)NoSQL databases have dynamic schema.\n",
    "#### 2)NoSQL databases display data as collection of key-value pair, documents, graph databases or wide-column stores.\n",
    "#### 3)NoSQL databases are horizontally scalable."
   ]
  },
  {
   "cell_type": "markdown",
   "id": "2421a9cb-cf6c-45b4-bcdb-345bc80f649e",
   "metadata": {},
   "source": [
    "#### Q2) What is DDL? Explain why CREATE, DROP, ALTER, and TRUNCATE are used with an example.\n",
    "#### ANS Data Definition Language(DDL) is a subset of SQL and a part of DBMS(Database Management System).\n",
    "#### CREATE-This command is used to create a new table in SQL. The user has to give information like table name, column names, and their datatypes.\n",
    "#### DROP-This command is used to remove an existing table along with its structure from the Database.\n",
    "#### ALTER- This command is used to add, delete or change columns in the existing table. The user needs to know the existing table name and can do add, delete or modify tasks easily\n",
    "#### TRUNCATE-This command is used to remove all rows from the table, but the structure of the table still exists."
   ]
  },
  {
   "cell_type": "markdown",
   "id": "3a74f006-d30f-44fb-be79-7f639ef8812d",
   "metadata": {},
   "source": [
    "#### Q3. What is DML? Explain INSERT, UPDATE, and DELETE with an example.\n",
    "ANS The SQL commands that deal with the manipulation of data present in the database belong to DML or Data Manipulation Language and this includes most of the SQL statements. It is the component of the SQL statement that controls access to data and to the database\n",
    "INSERT: It is used to insert data into a table.\n",
    "EXAMPLE-INSERT INTO TABLE_NAME(column_Name1 , column_Name2 ,  .... column_NameN ) VALUES(value_1, value_2,.... value_N );\n",
    "UPDATE: It is used to update existing data within a table.\n",
    "EXAMPLE-UPDATE Table_name SET [column_name1= value_1, ….., column_nameN = value_N] WHERE CONDITION;\n",
    "DELETE: It is used to delete records from a database table.\n",
    "EXAMPLE-DELETE FROM Table_Name WHERE condition;  "
   ]
  },
  {
   "cell_type": "markdown",
   "id": "461351db-31ab-40fb-a07c-91915220647c",
   "metadata": {},
   "source": [
    "#### Q4. What is DQL? Explain SELECT with an example.\n",
    "### ANS  It is a component of SQL statement that allows getting data from the database and imposing order upon it.\n",
    "## SELECT- It is used to retrieve data from the database.\n",
    "# EXAMPLE-SELECT * FROM Student; \n"
   ]
  },
  {
   "cell_type": "markdown",
   "id": "08d3af2f-b0e1-4a4f-a741-2f78a31fad5e",
   "metadata": {},
   "source": [
    "## Q5) Explain primary and foreign key.\n",
    "## Primary keys serve as unique identifiers for each row in a database table. Foreign keys link data in one table to the data in another table. \n",
    "## A foreign key column in a table points to a column with unique values in another table (often the primary key column) to create a way of cross-referencing the two tables."
   ]
  },
  {
   "cell_type": "markdown",
   "id": "dfd4e86a-68e7-46fd-8f82-f1df738ed886",
   "metadata": {},
   "source": [
    "## Q6. Write a python code to connect MySQL to python.Explain the cursor() and execute() method.\n",
    "## import mysql.connector\n",
    "## mydb = mysql.connector.connect(\n",
    "  ## host=\"localhost\",\n",
    "  ## user=\"abc\",\n",
    "  # password=\"password\"\n",
    "# )\n",
    "# mycursor = mydb.cursor()\n",
    "# mycursor.execute(\"\")\n",
    "# mydb.close()\n",
    "\n",
    "\n",
    "\n",
    "\n",
    "## cursor()-Cursor is a Temporary Memory. \n",
    "## It is Allocated by Database Server at the Time of Performing DML operations on the Table .\n",
    "## Cursors are used to store Database Tables.\n",
    "## execute()-this  command is used to execute stored procedures and query strings in database servers. "
   ]
  },
  {
   "cell_type": "markdown",
   "id": "92563129-bf0c-4737-ade5-bf0544610d59",
   "metadata": {},
   "source": [
    "## Q7. Give the order of execution of SQL clauses in an SQL query.\n",
    "## ANS The order of execution in SQL follows a specific set of rules. First, the FROM clause is evaluated, followed by the WHERE clause, then the SELECT clause. The GROUP BY clause is evaluated next, followed by the HAVING clause, and finally, the ORDER BY clause."
   ]
  },
  {
   "cell_type": "code",
   "execution_count": null,
   "id": "c1ca44c2-7e3f-4450-b42d-505759f07818",
   "metadata": {},
   "outputs": [],
   "source": []
  }
 ],
 "metadata": {
  "kernelspec": {
   "display_name": "Python 3 (ipykernel)",
   "language": "python",
   "name": "python3"
  },
  "language_info": {
   "codemirror_mode": {
    "name": "ipython",
    "version": 3
   },
   "file_extension": ".py",
   "mimetype": "text/x-python",
   "name": "python",
   "nbconvert_exporter": "python",
   "pygments_lexer": "ipython3",
   "version": "3.10.8"
  }
 },
 "nbformat": 4,
 "nbformat_minor": 5
}
