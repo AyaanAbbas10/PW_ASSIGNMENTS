{
 "cells": [
  {
   "cell_type": "markdown",
   "id": "32a4d4a4-3251-4196-82c5-b5bf842206ea",
   "metadata": {},
   "source": [
    "# Q1: What are the Probability Mass Function (PMF) and Probability Density Function (PDF)? Explain with an example.\n",
    "# ANS Probability Mass Function (PMF):The PMF is used to describe the probabilities of a discrete random variable taking on specific values. It provides the probability associated with each possible outcome of the random variable.\n",
    "# EXAMPLE-For a fair six-sided die, the PMF would be:\n",
    "# P(X=1)=P(X=2)=P(X=3)=P(X=4)=P(X=5)=P(X=6)=1/6\n",
    "\n",
    "# Probability Density Function (PDF):The PDF is used to describe the likelihood of a continuous random variable falling within a certain range of values. Unlike the PMF, which gives probabilities at specific points, the PDF gives the probability density at various points. The actual probability of the random variable taking a precise value within a continuous range is the area under the PDF curve over that range.\n",
    "\n"
   ]
  },
  {
   "cell_type": "markdown",
   "id": "6e572184-2def-46ad-91f1-fc0c276ea70a",
   "metadata": {},
   "source": [
    "# Q2: What is Cumulative Density Function (CDF)? Explain with an example. Why CDF is used?\n",
    "# ANS The Cumulative Distribution Function (CDF) is a concept in probability theory that provides information about the probability that a random variable takes on a value less than or equal to a given value. In other words, the CDF gives you the cumulative probability of observing a value less than or equal to a certain point.\n",
    "# Example:Consider a fair coin toss where the possible outcomes are heads (H) and tails (T). The CDF for this can be described as follows:\n",
    "# F(H)=P(X≤H)=P(H)=0.5 (Probability of getting heads)\n",
    "# F(T)=P(X≤T)=P(H)+P(T)=0.5+0.5=1 (Probability of getting tails)\n",
    "# The CDF gives you the cumulative probabilities of observing each outcome up to a certain point. In this case, after one coin toss, the probability of getting heads is 0.5 and the probability of getting tails is 1\n"
   ]
  },
  {
   "cell_type": "markdown",
   "id": "0a5b8224-ee0b-451b-8874-0d98e16da538",
   "metadata": {},
   "source": [
    "# Q3: What are some examples of situations where the normal distribution might be used as a model?Explain how the  parameters of the normal distribution relate to the shape of the distribution.\n",
    "# ANS ere are some examples of situations where the normal distribution might be used as a model:\n",
    "\n",
    "- Height of Individuals: The heights of a large group of people tend to follow a normal distribution, where most people cluster around the average height, with fewer individuals being much taller or shorter.\n",
    "\n",
    "- Measurement Errors: When measuring physical quantities, measurement errors often follow a normal distribution around the true value.\n",
    "\n",
    "- Test Scores: In educational testing, test scores for a large population often approximate a normal distribution, with most scores near the mean and fewer scores deviating further away.\n",
    "\n",
    "# The parameters of the normal distribution are the mean (μ) and the standard deviation (σ). They play a significant role in shaping the distribution:\n",
    "\n",
    "- Mean: The mean determines the central location of the distribution. It's the value around which the curve is symmetrically centered. The mean is also the median and mode of the normal distribution.\n",
    "\n",
    "- Standard Deviation: The standard deviation controls the spread or dispersion of the distribution. A larger standard deviation results in a wider and flatter curve, while a smaller standard deviation leads to a narrower and taller curve."
   ]
  },
  {
   "cell_type": "markdown",
   "id": "a4b408a5-f94d-472d-8b75-75a9b04db352",
   "metadata": {},
   "source": [
    "# Q4: Explain the importance of Normal Distribution. Give a few real-life examples of Normal Distribution.\n",
    "# ANS IMPORTANCE OF Normal Distribution\n",
    "- Ease of Analysis: The normal distribution has well-defined mathematical properties, making it easier to perform calculations, estimate parameters, and derive statistical properties compared to other distributions.\n",
    "\n",
    "- Statistical Techniques: Many statistical techniques and methods, such as hypothesis testing, confidence intervals, and regression analysis, assume normality. When data closely follows a normal distribution, these techniques tend to be more valid and accurate.\n",
    "\n",
    "- Standardization: The normal distribution facilitates standardization and comparison of data across different contexts. Z-scores, calculated using the mean and standard deviation of a normal distribution, allow us to compare observations from different dataset\n",
    "# Examples of Real-Life Normal Distribution:\n",
    "- Height of People: The heights of a large population of adults tend to follow a normal distribution. Most people are of average height, while very tall and very short individuals are less common.\n",
    "\n",
    "- IQ Scores: Intelligence quotient (IQ) scores across a population are often modeled using a normal distribution. Most people have average IQ scores, with fewer individuals having extremely high or low scores.\n",
    "\n",
    "- Exam Scores: In educational settings, exam scores for a large number of students often approximate a normal distribution. Most scores cluster around the average, with fewer students scoring significantly above or below."
   ]
  },
  {
   "cell_type": "markdown",
   "id": "9d622870-5c57-445d-a2cb-8d1b7cfb8624",
   "metadata": {},
   "source": [
    "# Q5: What is Bernaulli Distribution? Give an Example. What is the difference between BernoulliDistribution and Binomial Distribution?\n",
    "# ANS The Bernoulli distribution is a discrete probability distribution that models a random variable with only two possible outcomes: success (usually denoted as 1) and failure (usually denoted as 0). It is named after Jacob Bernoulli, a Swiss mathematician. The Bernoulli distribution is the simplest and most fundamental distribution in probability theory and serves as the building block for more complex distributions like the binomial distribution.\n",
    "\n",
    "# Example of Bernoulli Distribution:\n",
    "# Consider the outcome of flipping a fair coin. If we define success as getting heads (H) and failure as getting tails (T), then the Bernoulli distribution can model this situation. Let's assume p=0.5 for a fair coin.\n",
    "\n",
    "# Probability of getting heads (success)=0.5\n",
    "# P(X=1)=0.5\n",
    "# Probability of getting tails (failure)=0.5\n",
    "# P(X=0)=0.5\n",
    " # Difference between Bernoulli and Binomial Distributions:\n",
    "\n",
    "# Number of Trials:\n",
    "- Bernoulli Distribution: Describes the outcome of a single trial or experiment with two possible outcomes.\n",
    "- Binomial Distribution: Describes the number of successes in a fixed number of independent Bernoulli trials.\n",
    "\n",
    "# Random Variables:\n",
    "\n",
    "- Bernoulli Distribution: Involves a single random variable that takes values 0 or 1.\n",
    "- Binomial Distribution: Involves a discrete random variable representing the count of successes in a fixed number of trials.\n",
    "\n",
    "# Probability Mass Function (PMF):\n",
    "- Bernoulli Distribution: The PMF describes the probabilities of a single success (1) or failure (0).\n",
    "- Binomial Distribution: The PMF describes the probabilities of getting a specific number of successes in a fixed number of trials."
   ]
  },
  {
   "cell_type": "code",
   "execution_count": null,
   "id": "48f23e6b-0694-48d9-8fcf-0bcb2714cfd9",
   "metadata": {},
   "outputs": [],
   "source": [
    "# Q6. Consider a dataset with a mean of 50 and a standard deviation of 10. If we assume that the dataset is normally distributed, what is the probability that a randomly selected observation will be greater than 60? Use the appropriate formula and show your calculations.\n",
    "import scipy.stats as stats\n",
    "\n",
    "mean = 50\n",
    "std_dev = 10\n",
    "value = 60\n",
    "z_score = (value - mean) / std_dev\n",
    "probability = 1 - stats.norm.cdf(z_score)\n",
    "\n",
    "\n"
   ]
  },
  {
   "cell_type": "code",
   "execution_count": null,
   "id": "6363cc68-0a5c-44f6-8a05-eed297a4ad78",
   "metadata": {
    "tags": []
   },
   "outputs": [],
   "source": [
    "probability"
   ]
  },
  {
   "cell_type": "markdown",
   "id": "3800de85-68f4-4d88-a35c-6d00f2c2b9cd",
   "metadata": {},
   "source": [
    "# Q7: Explain uniform Distribution with an example.\n",
    "# ANS The uniform distribution is a probability distribution that models random variables where all outcomes within a certain range are equally likely. In other words, it represents situations where each possible value has the same probability of occurring. The uniform distribution is characterized by a constant probability density function (PDF) over the defined interval#\n",
    "# Example of Uniform Distribution:Imagine rolling a fair six-sided die. Each of the six sides is equally likely to come up, and there is no preference for any specific outcome. This situation can be modeled using a discrete uniform distribution.\n",
    "# In this case, the discrete uniform distribution assigns a probability of 1/6 to each of the possible outcomes (1, 2, 3, 4, 5, or 6). The distribution is uniform because all the outcomes have the same probability."
   ]
  },
  {
   "cell_type": "markdown",
   "id": "8ba5a274-a11d-4202-885c-08618c12db11",
   "metadata": {},
   "source": [
    "# Q8: What is the z score? State the importance of the z score.\n",
    "# ANS The z-score, also known as the standard score or z-value, is a statistical measure that quantifies the number of standard deviations a data point is away from the mean of a dataset. It's a normalized value that allows you to compare data points from different datasets on a common scale. The formula to calculate the z-score is:\n",
    "# z= x−μ/σ \n",
    "# Where:x is the individual data point.\n",
    "# μ is the mean of the dataset.\n",
    "# σ is the standard deviation of the datase\n",
    "\n",
    "\n",
    "# The importance of the z-score lies in its ability to standardize data and facilitate comparisons. Here are some key reasons why z-scores are important:\n",
    "\n",
    "- Comparison across Datasets: Z-scores allow you to compare observations from different datasets that may have different units, scales, and distributions. By converting data to a common standard scale, you can identify relative positions and make meaningful comparisons.\n",
    "\n",
    "- Identifying Outliers: Z-scores help in identifying outliers, which are data points that deviate significantly from the mean. Extreme z-scores (very high or very low) often indicate data points that are far from the center of the distribution.\n",
    "\n",
    "- Normalization: Z-scores normalize data by representing how many standard deviations an observation is from the mean. This can be particularly useful when working with datasets of varying scales."
   ]
  },
  {
   "cell_type": "markdown",
   "id": "96912283-12f8-4075-a7f8-49c4d686bca4",
   "metadata": {},
   "source": [
    "# Q9: What is Central Limit Theorem? State the significance of the Central Limit Theorem.\n",
    "# ANS The Central Limit Theorem states that when you take a sufficiently large number of random samples from any population, the distribution of the sample means will approximate a normal distribution, regardless of the original distribution of the population.\n",
    "# The Central Limit Theorem has immense significance in statistics and data analysis for several reasons:\n",
    "\n",
    "- Inference about Population Mean: The CLT allows us to make inferences about the population mean using the sample mean. We can use the properties of the normal distribution to calculate confidence intervals and perform hypothesis tests.\n",
    "\n",
    "- Hypothesis Testing: Many statistical hypothesis tests rely on the assumption that the sampling distribution of the sample mean is approximately normal. The CLT justifies this assumption, making hypothesis testing widely applicable.\n",
    "\n",
    "- Sampling from Any Distribution: Even if the population distribution is not normal, the CLT tells us that the distribution of sample means will become more normal as the sample size increases."
   ]
  },
  {
   "cell_type": "markdown",
   "id": "c41ba014-2205-4679-ad13-d96d0aaa7cd0",
   "metadata": {},
   "source": [
    "# Q10: State the assumptions of the Central Limit Theorem.\n",
    "# ANSThe key assumptions of the Central Limit Theorem include:\n",
    "\n",
    "- Independence: The individual observations in each sample must be independent of each other. This means that the value of one observation does not affect or influence the value of another observation.\n",
    "\n",
    "- Uniformly Distributed: The observations in each sample must be drawn from the same population and follow the same distribution. In other words, the shape of the distribution should be consistent across all samples.\n",
    "\n",
    "- Finite Variance: The population distribution from which the samples are drawn must have a finite variance. This assumption ensures that the distribution is not overly spread out or \"heavy-tailed.\"\n",
    "\n",
    "- Large Sample Size: For the CLT to start to take effect, the sample size (n) should be sufficiently large. The exact minimum sample size required for the CLT to provide accurate approximations depends on the shape of the underlying population distribution."
   ]
  },
  {
   "cell_type": "code",
   "execution_count": null,
   "id": "f1d34cb5-6c6e-421e-bb08-5e951c2f1951",
   "metadata": {},
   "outputs": [],
   "source": []
  }
 ],
 "metadata": {
  "kernelspec": {
   "display_name": "Python 3 (ipykernel)",
   "language": "python",
   "name": "python3"
  },
  "language_info": {
   "codemirror_mode": {
    "name": "ipython",
    "version": 3
   },
   "file_extension": ".py",
   "mimetype": "text/x-python",
   "name": "python",
   "nbconvert_exporter": "python",
   "pygments_lexer": "ipython3",
   "version": "3.10.8"
  }
 },
 "nbformat": 4,
 "nbformat_minor": 5
}
